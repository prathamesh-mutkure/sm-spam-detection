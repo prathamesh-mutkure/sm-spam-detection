{
  "cells": [
    {
      "cell_type": "markdown",
      "source": [
        "**Detection of Social Network Spam Based on Improved Machine Learning**"
      ],
      "metadata": {
        "id": "d5B8XvzkZW2P"
      },
      "id": "d5B8XvzkZW2P"
    },
    {
      "cell_type": "markdown",
      "source": [
        "1. Import Libraries"
      ],
      "metadata": {
        "id": "1hW0R7sbZe3p"
      },
      "id": "1hW0R7sbZe3p"
    },
    {
      "cell_type": "code",
      "execution_count": 23,
      "id": "8d639d4c",
      "metadata": {
        "id": "8d639d4c"
      },
      "outputs": [],
      "source": [
        "import pandas as pd\n",
        "from sklearn import model_selection\n",
        "from sklearn.metrics import classification_report, confusion_matrix\n",
        "import matplotlib.pyplot as plt\n",
        "import seaborn as sns\n",
        "from sklearn import model_selection\n",
        "from scipy import stats\n",
        "import joblib"
      ]
    },
    {
      "cell_type": "markdown",
      "source": [
        "2. Import dataset"
      ],
      "metadata": {
        "id": "-gByepqhZjtM"
      },
      "id": "-gByepqhZjtM"
    },
    {
      "cell_type": "code",
      "execution_count": 24,
      "id": "3dd76183",
      "metadata": {
        "id": "3dd76183"
      },
      "outputs": [],
      "source": [
        "df = pd.read_csv(\"dataset_1.csv\")"
      ]
    },
    {
      "cell_type": "markdown",
      "source": [
        "Display Heads"
      ],
      "metadata": {
        "id": "TPu0rCCxae7J"
      },
      "id": "TPu0rCCxae7J"
    },
    {
      "cell_type": "code",
      "execution_count": 25,
      "id": "4410e0c9",
      "metadata": {
        "id": "4410e0c9",
        "outputId": "9a6c08a7-2057-41c4-ecf3-5202a42be1cc",
        "colab": {
          "base_uri": "https://localhost:8080/",
          "height": 176
        }
      },
      "outputs": [
        {
          "output_type": "execute_result",
          "data": {
            "text/plain": [
              "   account_age  no_follower  no_following  no_userfavourites  no_lists  \\\n",
              "0            0          120           211                  3         0   \n",
              "1          707          624           428               2507         0   \n",
              "\n",
              "   no_tweets  no_retweets  no_hashtag  no_usermention  no_urls  no_char  \\\n",
              "0        180            1           1               2        1       94   \n",
              "1      12881            0           0               0        1       99   \n",
              "\n",
              "   no_digits    label  \n",
              "0          1  spammer  \n",
              "1          6  spammer  "
            ],
            "text/html": [
              "\n",
              "  <div id=\"df-d423faee-2a79-4a42-bf04-d69bbb170e21\">\n",
              "    <div class=\"colab-df-container\">\n",
              "      <div>\n",
              "<style scoped>\n",
              "    .dataframe tbody tr th:only-of-type {\n",
              "        vertical-align: middle;\n",
              "    }\n",
              "\n",
              "    .dataframe tbody tr th {\n",
              "        vertical-align: top;\n",
              "    }\n",
              "\n",
              "    .dataframe thead th {\n",
              "        text-align: right;\n",
              "    }\n",
              "</style>\n",
              "<table border=\"1\" class=\"dataframe\">\n",
              "  <thead>\n",
              "    <tr style=\"text-align: right;\">\n",
              "      <th></th>\n",
              "      <th>account_age</th>\n",
              "      <th>no_follower</th>\n",
              "      <th>no_following</th>\n",
              "      <th>no_userfavourites</th>\n",
              "      <th>no_lists</th>\n",
              "      <th>no_tweets</th>\n",
              "      <th>no_retweets</th>\n",
              "      <th>no_hashtag</th>\n",
              "      <th>no_usermention</th>\n",
              "      <th>no_urls</th>\n",
              "      <th>no_char</th>\n",
              "      <th>no_digits</th>\n",
              "      <th>label</th>\n",
              "    </tr>\n",
              "  </thead>\n",
              "  <tbody>\n",
              "    <tr>\n",
              "      <th>0</th>\n",
              "      <td>0</td>\n",
              "      <td>120</td>\n",
              "      <td>211</td>\n",
              "      <td>3</td>\n",
              "      <td>0</td>\n",
              "      <td>180</td>\n",
              "      <td>1</td>\n",
              "      <td>1</td>\n",
              "      <td>2</td>\n",
              "      <td>1</td>\n",
              "      <td>94</td>\n",
              "      <td>1</td>\n",
              "      <td>spammer</td>\n",
              "    </tr>\n",
              "    <tr>\n",
              "      <th>1</th>\n",
              "      <td>707</td>\n",
              "      <td>624</td>\n",
              "      <td>428</td>\n",
              "      <td>2507</td>\n",
              "      <td>0</td>\n",
              "      <td>12881</td>\n",
              "      <td>0</td>\n",
              "      <td>0</td>\n",
              "      <td>0</td>\n",
              "      <td>1</td>\n",
              "      <td>99</td>\n",
              "      <td>6</td>\n",
              "      <td>spammer</td>\n",
              "    </tr>\n",
              "  </tbody>\n",
              "</table>\n",
              "</div>\n",
              "      <button class=\"colab-df-convert\" onclick=\"convertToInteractive('df-d423faee-2a79-4a42-bf04-d69bbb170e21')\"\n",
              "              title=\"Convert this dataframe to an interactive table.\"\n",
              "              style=\"display:none;\">\n",
              "        \n",
              "  <svg xmlns=\"http://www.w3.org/2000/svg\" height=\"24px\"viewBox=\"0 0 24 24\"\n",
              "       width=\"24px\">\n",
              "    <path d=\"M0 0h24v24H0V0z\" fill=\"none\"/>\n",
              "    <path d=\"M18.56 5.44l.94 2.06.94-2.06 2.06-.94-2.06-.94-.94-2.06-.94 2.06-2.06.94zm-11 1L8.5 8.5l.94-2.06 2.06-.94-2.06-.94L8.5 2.5l-.94 2.06-2.06.94zm10 10l.94 2.06.94-2.06 2.06-.94-2.06-.94-.94-2.06-.94 2.06-2.06.94z\"/><path d=\"M17.41 7.96l-1.37-1.37c-.4-.4-.92-.59-1.43-.59-.52 0-1.04.2-1.43.59L10.3 9.45l-7.72 7.72c-.78.78-.78 2.05 0 2.83L4 21.41c.39.39.9.59 1.41.59.51 0 1.02-.2 1.41-.59l7.78-7.78 2.81-2.81c.8-.78.8-2.07 0-2.86zM5.41 20L4 18.59l7.72-7.72 1.47 1.35L5.41 20z\"/>\n",
              "  </svg>\n",
              "      </button>\n",
              "      \n",
              "  <style>\n",
              "    .colab-df-container {\n",
              "      display:flex;\n",
              "      flex-wrap:wrap;\n",
              "      gap: 12px;\n",
              "    }\n",
              "\n",
              "    .colab-df-convert {\n",
              "      background-color: #E8F0FE;\n",
              "      border: none;\n",
              "      border-radius: 50%;\n",
              "      cursor: pointer;\n",
              "      display: none;\n",
              "      fill: #1967D2;\n",
              "      height: 32px;\n",
              "      padding: 0 0 0 0;\n",
              "      width: 32px;\n",
              "    }\n",
              "\n",
              "    .colab-df-convert:hover {\n",
              "      background-color: #E2EBFA;\n",
              "      box-shadow: 0px 1px 2px rgba(60, 64, 67, 0.3), 0px 1px 3px 1px rgba(60, 64, 67, 0.15);\n",
              "      fill: #174EA6;\n",
              "    }\n",
              "\n",
              "    [theme=dark] .colab-df-convert {\n",
              "      background-color: #3B4455;\n",
              "      fill: #D2E3FC;\n",
              "    }\n",
              "\n",
              "    [theme=dark] .colab-df-convert:hover {\n",
              "      background-color: #434B5C;\n",
              "      box-shadow: 0px 1px 3px 1px rgba(0, 0, 0, 0.15);\n",
              "      filter: drop-shadow(0px 1px 2px rgba(0, 0, 0, 0.3));\n",
              "      fill: #FFFFFF;\n",
              "    }\n",
              "  </style>\n",
              "\n",
              "      <script>\n",
              "        const buttonEl =\n",
              "          document.querySelector('#df-d423faee-2a79-4a42-bf04-d69bbb170e21 button.colab-df-convert');\n",
              "        buttonEl.style.display =\n",
              "          google.colab.kernel.accessAllowed ? 'block' : 'none';\n",
              "\n",
              "        async function convertToInteractive(key) {\n",
              "          const element = document.querySelector('#df-d423faee-2a79-4a42-bf04-d69bbb170e21');\n",
              "          const dataTable =\n",
              "            await google.colab.kernel.invokeFunction('convertToInteractive',\n",
              "                                                     [key], {});\n",
              "          if (!dataTable) return;\n",
              "\n",
              "          const docLinkHtml = 'Like what you see? Visit the ' +\n",
              "            '<a target=\"_blank\" href=https://colab.research.google.com/notebooks/data_table.ipynb>data table notebook</a>'\n",
              "            + ' to learn more about interactive tables.';\n",
              "          element.innerHTML = '';\n",
              "          dataTable['output_type'] = 'display_data';\n",
              "          await google.colab.output.renderOutput(dataTable, element);\n",
              "          const docLink = document.createElement('div');\n",
              "          docLink.innerHTML = docLinkHtml;\n",
              "          element.appendChild(docLink);\n",
              "        }\n",
              "      </script>\n",
              "    </div>\n",
              "  </div>\n",
              "  "
            ]
          },
          "metadata": {},
          "execution_count": 25
        }
      ],
      "source": [
        "df.head(2)"
      ]
    },
    {
      "cell_type": "markdown",
      "source": [
        "Describe the dataset"
      ],
      "metadata": {
        "id": "ZEQsGtVkaryB"
      },
      "id": "ZEQsGtVkaryB"
    },
    {
      "cell_type": "code",
      "execution_count": 26,
      "id": "1a4cce0c",
      "metadata": {
        "id": "1a4cce0c",
        "outputId": "6533b75c-079f-4dbd-adc1-0e91c65be924",
        "colab": {
          "base_uri": "https://localhost:8080/",
          "height": 364
        }
      },
      "outputs": [
        {
          "output_type": "execute_result",
          "data": {
            "text/plain": [
              "        account_age   no_follower   no_following  no_userfavourites  \\\n",
              "count  10000.000000  1.000000e+04   10000.000000       10000.000000   \n",
              "mean     659.090100  2.787160e+03    1080.706100         730.414800   \n",
              "std      528.596058  3.832586e+04   10281.993514        4310.692861   \n",
              "min        0.000000  0.000000e+00       0.000000           0.000000   \n",
              "25%      177.000000  1.900000e+01      62.000000           0.000000   \n",
              "50%      574.000000  2.230000e+02     266.000000           8.000000   \n",
              "75%     1017.000000  6.995000e+02     726.000000         182.250000   \n",
              "max     2589.000000  1.879442e+06  738060.000000      165706.000000   \n",
              "\n",
              "           no_lists     no_tweets    no_retweets    no_hashtag  \\\n",
              "count  10000.000000  1.000000e+04   10000.000000  10000.000000   \n",
              "mean      21.605600  1.425985e+04     499.717900      0.499400   \n",
              "std      348.569682  3.712682e+04    5142.156412      1.029226   \n",
              "min        0.000000  0.000000e+00       0.000000      0.000000   \n",
              "25%        0.000000  5.577500e+02       0.000000      0.000000   \n",
              "50%        0.000000  2.846500e+03       0.000000      0.000000   \n",
              "75%        2.000000  1.284900e+04       0.000000      1.000000   \n",
              "max    26958.000000  1.036464e+06  115372.000000     14.000000   \n",
              "\n",
              "       no_usermention       no_urls      no_char     no_digits  \n",
              "count    10000.000000  10000.000000  10000.00000  10000.000000  \n",
              "mean         0.391800      1.071500     65.24600      2.257800  \n",
              "std          0.714243      0.328022     31.94595      3.970858  \n",
              "min          0.000000      1.000000      0.00000      0.000000  \n",
              "25%          0.000000      1.000000     41.00000      0.000000  \n",
              "50%          0.000000      1.000000     61.00000      0.000000  \n",
              "75%          1.000000      1.000000     91.00000      4.000000  \n",
              "max          7.000000      6.000000    140.00000     56.000000  "
            ],
            "text/html": [
              "\n",
              "  <div id=\"df-0029d35e-8854-41f8-916f-0386b583fc35\">\n",
              "    <div class=\"colab-df-container\">\n",
              "      <div>\n",
              "<style scoped>\n",
              "    .dataframe tbody tr th:only-of-type {\n",
              "        vertical-align: middle;\n",
              "    }\n",
              "\n",
              "    .dataframe tbody tr th {\n",
              "        vertical-align: top;\n",
              "    }\n",
              "\n",
              "    .dataframe thead th {\n",
              "        text-align: right;\n",
              "    }\n",
              "</style>\n",
              "<table border=\"1\" class=\"dataframe\">\n",
              "  <thead>\n",
              "    <tr style=\"text-align: right;\">\n",
              "      <th></th>\n",
              "      <th>account_age</th>\n",
              "      <th>no_follower</th>\n",
              "      <th>no_following</th>\n",
              "      <th>no_userfavourites</th>\n",
              "      <th>no_lists</th>\n",
              "      <th>no_tweets</th>\n",
              "      <th>no_retweets</th>\n",
              "      <th>no_hashtag</th>\n",
              "      <th>no_usermention</th>\n",
              "      <th>no_urls</th>\n",
              "      <th>no_char</th>\n",
              "      <th>no_digits</th>\n",
              "    </tr>\n",
              "  </thead>\n",
              "  <tbody>\n",
              "    <tr>\n",
              "      <th>count</th>\n",
              "      <td>10000.000000</td>\n",
              "      <td>1.000000e+04</td>\n",
              "      <td>10000.000000</td>\n",
              "      <td>10000.000000</td>\n",
              "      <td>10000.000000</td>\n",
              "      <td>1.000000e+04</td>\n",
              "      <td>10000.000000</td>\n",
              "      <td>10000.000000</td>\n",
              "      <td>10000.000000</td>\n",
              "      <td>10000.000000</td>\n",
              "      <td>10000.00000</td>\n",
              "      <td>10000.000000</td>\n",
              "    </tr>\n",
              "    <tr>\n",
              "      <th>mean</th>\n",
              "      <td>659.090100</td>\n",
              "      <td>2.787160e+03</td>\n",
              "      <td>1080.706100</td>\n",
              "      <td>730.414800</td>\n",
              "      <td>21.605600</td>\n",
              "      <td>1.425985e+04</td>\n",
              "      <td>499.717900</td>\n",
              "      <td>0.499400</td>\n",
              "      <td>0.391800</td>\n",
              "      <td>1.071500</td>\n",
              "      <td>65.24600</td>\n",
              "      <td>2.257800</td>\n",
              "    </tr>\n",
              "    <tr>\n",
              "      <th>std</th>\n",
              "      <td>528.596058</td>\n",
              "      <td>3.832586e+04</td>\n",
              "      <td>10281.993514</td>\n",
              "      <td>4310.692861</td>\n",
              "      <td>348.569682</td>\n",
              "      <td>3.712682e+04</td>\n",
              "      <td>5142.156412</td>\n",
              "      <td>1.029226</td>\n",
              "      <td>0.714243</td>\n",
              "      <td>0.328022</td>\n",
              "      <td>31.94595</td>\n",
              "      <td>3.970858</td>\n",
              "    </tr>\n",
              "    <tr>\n",
              "      <th>min</th>\n",
              "      <td>0.000000</td>\n",
              "      <td>0.000000e+00</td>\n",
              "      <td>0.000000</td>\n",
              "      <td>0.000000</td>\n",
              "      <td>0.000000</td>\n",
              "      <td>0.000000e+00</td>\n",
              "      <td>0.000000</td>\n",
              "      <td>0.000000</td>\n",
              "      <td>0.000000</td>\n",
              "      <td>1.000000</td>\n",
              "      <td>0.00000</td>\n",
              "      <td>0.000000</td>\n",
              "    </tr>\n",
              "    <tr>\n",
              "      <th>25%</th>\n",
              "      <td>177.000000</td>\n",
              "      <td>1.900000e+01</td>\n",
              "      <td>62.000000</td>\n",
              "      <td>0.000000</td>\n",
              "      <td>0.000000</td>\n",
              "      <td>5.577500e+02</td>\n",
              "      <td>0.000000</td>\n",
              "      <td>0.000000</td>\n",
              "      <td>0.000000</td>\n",
              "      <td>1.000000</td>\n",
              "      <td>41.00000</td>\n",
              "      <td>0.000000</td>\n",
              "    </tr>\n",
              "    <tr>\n",
              "      <th>50%</th>\n",
              "      <td>574.000000</td>\n",
              "      <td>2.230000e+02</td>\n",
              "      <td>266.000000</td>\n",
              "      <td>8.000000</td>\n",
              "      <td>0.000000</td>\n",
              "      <td>2.846500e+03</td>\n",
              "      <td>0.000000</td>\n",
              "      <td>0.000000</td>\n",
              "      <td>0.000000</td>\n",
              "      <td>1.000000</td>\n",
              "      <td>61.00000</td>\n",
              "      <td>0.000000</td>\n",
              "    </tr>\n",
              "    <tr>\n",
              "      <th>75%</th>\n",
              "      <td>1017.000000</td>\n",
              "      <td>6.995000e+02</td>\n",
              "      <td>726.000000</td>\n",
              "      <td>182.250000</td>\n",
              "      <td>2.000000</td>\n",
              "      <td>1.284900e+04</td>\n",
              "      <td>0.000000</td>\n",
              "      <td>1.000000</td>\n",
              "      <td>1.000000</td>\n",
              "      <td>1.000000</td>\n",
              "      <td>91.00000</td>\n",
              "      <td>4.000000</td>\n",
              "    </tr>\n",
              "    <tr>\n",
              "      <th>max</th>\n",
              "      <td>2589.000000</td>\n",
              "      <td>1.879442e+06</td>\n",
              "      <td>738060.000000</td>\n",
              "      <td>165706.000000</td>\n",
              "      <td>26958.000000</td>\n",
              "      <td>1.036464e+06</td>\n",
              "      <td>115372.000000</td>\n",
              "      <td>14.000000</td>\n",
              "      <td>7.000000</td>\n",
              "      <td>6.000000</td>\n",
              "      <td>140.00000</td>\n",
              "      <td>56.000000</td>\n",
              "    </tr>\n",
              "  </tbody>\n",
              "</table>\n",
              "</div>\n",
              "      <button class=\"colab-df-convert\" onclick=\"convertToInteractive('df-0029d35e-8854-41f8-916f-0386b583fc35')\"\n",
              "              title=\"Convert this dataframe to an interactive table.\"\n",
              "              style=\"display:none;\">\n",
              "        \n",
              "  <svg xmlns=\"http://www.w3.org/2000/svg\" height=\"24px\"viewBox=\"0 0 24 24\"\n",
              "       width=\"24px\">\n",
              "    <path d=\"M0 0h24v24H0V0z\" fill=\"none\"/>\n",
              "    <path d=\"M18.56 5.44l.94 2.06.94-2.06 2.06-.94-2.06-.94-.94-2.06-.94 2.06-2.06.94zm-11 1L8.5 8.5l.94-2.06 2.06-.94-2.06-.94L8.5 2.5l-.94 2.06-2.06.94zm10 10l.94 2.06.94-2.06 2.06-.94-2.06-.94-.94-2.06-.94 2.06-2.06.94z\"/><path d=\"M17.41 7.96l-1.37-1.37c-.4-.4-.92-.59-1.43-.59-.52 0-1.04.2-1.43.59L10.3 9.45l-7.72 7.72c-.78.78-.78 2.05 0 2.83L4 21.41c.39.39.9.59 1.41.59.51 0 1.02-.2 1.41-.59l7.78-7.78 2.81-2.81c.8-.78.8-2.07 0-2.86zM5.41 20L4 18.59l7.72-7.72 1.47 1.35L5.41 20z\"/>\n",
              "  </svg>\n",
              "      </button>\n",
              "      \n",
              "  <style>\n",
              "    .colab-df-container {\n",
              "      display:flex;\n",
              "      flex-wrap:wrap;\n",
              "      gap: 12px;\n",
              "    }\n",
              "\n",
              "    .colab-df-convert {\n",
              "      background-color: #E8F0FE;\n",
              "      border: none;\n",
              "      border-radius: 50%;\n",
              "      cursor: pointer;\n",
              "      display: none;\n",
              "      fill: #1967D2;\n",
              "      height: 32px;\n",
              "      padding: 0 0 0 0;\n",
              "      width: 32px;\n",
              "    }\n",
              "\n",
              "    .colab-df-convert:hover {\n",
              "      background-color: #E2EBFA;\n",
              "      box-shadow: 0px 1px 2px rgba(60, 64, 67, 0.3), 0px 1px 3px 1px rgba(60, 64, 67, 0.15);\n",
              "      fill: #174EA6;\n",
              "    }\n",
              "\n",
              "    [theme=dark] .colab-df-convert {\n",
              "      background-color: #3B4455;\n",
              "      fill: #D2E3FC;\n",
              "    }\n",
              "\n",
              "    [theme=dark] .colab-df-convert:hover {\n",
              "      background-color: #434B5C;\n",
              "      box-shadow: 0px 1px 3px 1px rgba(0, 0, 0, 0.15);\n",
              "      filter: drop-shadow(0px 1px 2px rgba(0, 0, 0, 0.3));\n",
              "      fill: #FFFFFF;\n",
              "    }\n",
              "  </style>\n",
              "\n",
              "      <script>\n",
              "        const buttonEl =\n",
              "          document.querySelector('#df-0029d35e-8854-41f8-916f-0386b583fc35 button.colab-df-convert');\n",
              "        buttonEl.style.display =\n",
              "          google.colab.kernel.accessAllowed ? 'block' : 'none';\n",
              "\n",
              "        async function convertToInteractive(key) {\n",
              "          const element = document.querySelector('#df-0029d35e-8854-41f8-916f-0386b583fc35');\n",
              "          const dataTable =\n",
              "            await google.colab.kernel.invokeFunction('convertToInteractive',\n",
              "                                                     [key], {});\n",
              "          if (!dataTable) return;\n",
              "\n",
              "          const docLinkHtml = 'Like what you see? Visit the ' +\n",
              "            '<a target=\"_blank\" href=https://colab.research.google.com/notebooks/data_table.ipynb>data table notebook</a>'\n",
              "            + ' to learn more about interactive tables.';\n",
              "          element.innerHTML = '';\n",
              "          dataTable['output_type'] = 'display_data';\n",
              "          await google.colab.output.renderOutput(dataTable, element);\n",
              "          const docLink = document.createElement('div');\n",
              "          docLink.innerHTML = docLinkHtml;\n",
              "          element.appendChild(docLink);\n",
              "        }\n",
              "      </script>\n",
              "    </div>\n",
              "  </div>\n",
              "  "
            ]
          },
          "metadata": {},
          "execution_count": 26
        }
      ],
      "source": [
        "df.describe()"
      ]
    },
    {
      "cell_type": "markdown",
      "source": [
        "Display information of the dataset"
      ],
      "metadata": {
        "id": "zNnYrfCzawjH"
      },
      "id": "zNnYrfCzawjH"
    },
    {
      "cell_type": "code",
      "execution_count": 27,
      "id": "219ccd61",
      "metadata": {
        "id": "219ccd61",
        "outputId": "975910b8-daa3-490c-8bdd-534dabc4e854",
        "colab": {
          "base_uri": "https://localhost:8080/"
        }
      },
      "outputs": [
        {
          "output_type": "execute_result",
          "data": {
            "text/plain": [
              "<bound method DataFrame.info of       account_age  no_follower  no_following  no_userfavourites  no_lists  \\\n",
              "0               0          120           211                  3         0   \n",
              "1             707          624           428               2507         0   \n",
              "2             121            1           515                  0         0   \n",
              "3             260            5            23                  0         0   \n",
              "4             624          983           159                 11         2   \n",
              "...           ...          ...           ...                ...       ...   \n",
              "9995          366          258           218                219         0   \n",
              "9996         1559         4592            90                127       107   \n",
              "9997          909           45           238                  6         0   \n",
              "9998          354         3807          3723                114        11   \n",
              "9999          808           21            37                  7         0   \n",
              "\n",
              "      no_tweets  no_retweets  no_hashtag  no_usermention  no_urls  no_char  \\\n",
              "0           180            1           1               2        1       94   \n",
              "1         12881            0           0               0        1       99   \n",
              "2           416            0           0               0        1       37   \n",
              "3          1174            0           2               0        1       56   \n",
              "4         42533            0           1               0        1       82   \n",
              "...         ...          ...         ...             ...      ...      ...   \n",
              "9995       6568          210           0               1        1      117   \n",
              "9996      12669            0           0               0        1       46   \n",
              "9997        354            0           0               0        1       23   \n",
              "9998      34529            0           0               0        1      114   \n",
              "9999       2876            0           0               0        1       66   \n",
              "\n",
              "      no_digits        label  \n",
              "0             1      spammer  \n",
              "1             6      spammer  \n",
              "2             0      spammer  \n",
              "3             0      spammer  \n",
              "4             6      spammer  \n",
              "...         ...          ...  \n",
              "9995          4  non-spammer  \n",
              "9996          0  non-spammer  \n",
              "9997          0  non-spammer  \n",
              "9998          0  non-spammer  \n",
              "9999          4  non-spammer  \n",
              "\n",
              "[10000 rows x 13 columns]>"
            ]
          },
          "metadata": {},
          "execution_count": 27
        }
      ],
      "source": [
        "df.info"
      ]
    },
    {
      "cell_type": "markdown",
      "source": [
        "Display the shape (No. of rows and columns) of the dataset"
      ],
      "metadata": {
        "id": "Y8DQHTzma2Ge"
      },
      "id": "Y8DQHTzma2Ge"
    },
    {
      "cell_type": "code",
      "source": [
        "df.shape"
      ],
      "metadata": {
        "colab": {
          "base_uri": "https://localhost:8080/"
        },
        "id": "kxQ1zrZ_knpc",
        "outputId": "ea690390-28d2-4ae7-b948-185de05735bc"
      },
      "id": "kxQ1zrZ_knpc",
      "execution_count": 28,
      "outputs": [
        {
          "output_type": "execute_result",
          "data": {
            "text/plain": [
              "(10000, 13)"
            ]
          },
          "metadata": {},
          "execution_count": 28
        }
      ]
    },
    {
      "cell_type": "markdown",
      "source": [
        "Check the null values in the dataset"
      ],
      "metadata": {
        "id": "U1mbe3IlbAOT"
      },
      "id": "U1mbe3IlbAOT"
    },
    {
      "cell_type": "code",
      "execution_count": 29,
      "id": "f2037838",
      "metadata": {
        "id": "f2037838",
        "outputId": "7500b1f0-0713-4d01-8a23-59328a9f80fa",
        "colab": {
          "base_uri": "https://localhost:8080/"
        }
      },
      "outputs": [
        {
          "output_type": "execute_result",
          "data": {
            "text/plain": [
              "account_age          0\n",
              "no_follower          0\n",
              "no_following         0\n",
              "no_userfavourites    0\n",
              "no_lists             0\n",
              "no_tweets            0\n",
              "no_retweets          0\n",
              "no_hashtag           0\n",
              "no_usermention       0\n",
              "no_urls              0\n",
              "no_char              0\n",
              "no_digits            0\n",
              "label                0\n",
              "dtype: int64"
            ]
          },
          "metadata": {},
          "execution_count": 29
        }
      ],
      "source": [
        "df.isnull().sum()"
      ]
    },
    {
      "cell_type": "markdown",
      "source": [
        "Print number of Features and no of samples"
      ],
      "metadata": {
        "id": "1oVBbxu6bOXY"
      },
      "id": "1oVBbxu6bOXY"
    },
    {
      "cell_type": "code",
      "execution_count": 30,
      "id": "791312d0",
      "metadata": {
        "id": "791312d0",
        "outputId": "98c03ad0-28d9-4c09-bf4c-06963806c735",
        "colab": {
          "base_uri": "https://localhost:8080/"
        }
      },
      "outputs": [
        {
          "output_type": "stream",
          "name": "stdout",
          "text": [
            "Number of features: 13\n",
            "Number of examples: 10000\n"
          ]
        }
      ],
      "source": [
        "print('Number of features: {}'.format(df.shape[1]))\n",
        "print('Number of examples: {}'.format(df.shape[0]))"
      ]
    },
    {
      "cell_type": "markdown",
      "source": [
        "**3. Data Visualization**\n",
        "\n",
        "**Scatter Plot**"
      ],
      "metadata": {
        "id": "fUf298Ahbb6h"
      },
      "id": "fUf298Ahbb6h"
    },
    {
      "cell_type": "markdown",
      "source": [
        "1. account_age VS no_tweets"
      ],
      "metadata": {
        "id": "IKMevzflbUop"
      },
      "id": "IKMevzflbUop"
    },
    {
      "cell_type": "code",
      "source": [
        "import matplotlib.pyplot as plt\n",
        "# Create another figure\n",
        "plt.figure(figsize=(9, 7))\n",
        "\n",
        "# Scatter with postivie examples\n",
        "plt.scatter(df.account_age[df.label ==\"spammer\"],\n",
        "            df.no_tweets[df.label==\"spammer\"],\n",
        "            c=\"salmon\")\n",
        "\n",
        "# Scatter with negative examples\n",
        "plt.scatter(df.account_age[df.label ==\"non-spammer\"],\n",
        "            df.no_tweets[df.label ==\"non-spammer\"],\n",
        "            c=\"lightblue\")\n",
        "\n",
        "# Add some helpful info\n",
        "plt.title(\"Spam Detection account_age VS no_tweets\")\n",
        "plt.xlabel(\"account_age\")\n",
        "plt.ylabel(\"no_tweets\")\n",
        "plt.legend([\"spammer\", \"non-spammer\"]);"
      ],
      "metadata": {
        "colab": {
          "base_uri": "https://localhost:8080/",
          "height": 459
        },
        "id": "P3iqnl5klMIL",
        "outputId": "a10cb22d-f8c8-4562-ee86-1723eda4d58f"
      },
      "id": "P3iqnl5klMIL",
      "execution_count": 31,
      "outputs": [
        {
          "output_type": "display_data",
          "data": {
            "text/plain": [
              "<Figure size 648x504 with 1 Axes>"
            ],
            "image/png": "[encoded data removed]"
          },
          "metadata": {
            "needs_background": "light"
          }
        }
      ]
    },
    {
      "cell_type": "markdown",
      "source": [
        "2. account_age VS no_tweets"
      ],
      "metadata": {
        "id": "JcVZwyuOb46O"
      },
      "id": "JcVZwyuOb46O"
    },
    {
      "cell_type": "markdown",
      "source": [
        "3. account_age VS no_tweets"
      ],
      "metadata": {
        "id": "2v70jv8Ab7ls"
      },
      "id": "2v70jv8Ab7ls"
    },
    {
      "cell_type": "markdown",
      "source": [
        "**Correlation Matrix**"
      ],
      "metadata": {
        "id": "SnqEMVchb-lz"
      },
      "id": "SnqEMVchb-lz"
    },
    {
      "cell_type": "code",
      "source": [
        "# Let's make our correlation matrix a little prettier\n",
        "import seaborn as sns\n",
        "corr_matrix = df.corr()\n",
        "fig, ax = plt.subplots(figsize=(15, 15))\n",
        "ax = sns.heatmap(corr_matrix,\n",
        "                 annot=True,\n",
        "                 linewidths=0.5,\n",
        "                 fmt=\".3f\",\n",
        "                 cmap=\"YlGnBu\");\n",
        "bottom, top = ax.get_ylim()\n",
        "ax.set_ylim(bottom + 0.5, top - 0.5)"
      ],
      "metadata": {
        "colab": {
          "base_uri": "https://localhost:8080/",
          "height": 964
        },
        "id": "EkOWxEWXmgXa",
        "outputId": "92e5233e-a912-4012-fdda-94230c80fa15"
      },
      "id": "EkOWxEWXmgXa",
      "execution_count": 32,
      "outputs": [
        {
          "output_type": "execute_result",
          "data": {
            "text/plain": [
              "(12.5, -0.5)"
            ]
          },
          "metadata": {},
          "execution_count": 32
        },
        {
          "output_type": "display_data",
          "data": {
            "text/plain": [
              "<Figure size 1080x1080 with 2 Axes>"
            ],
            "image/png": "[encoded data removed]"
          },
          "metadata": {
            "needs_background": "light"
          }
        }
      ]
    },
    {
      "cell_type": "markdown",
      "source": [
        "Count Number Positive and Negative samples"
      ],
      "metadata": {
        "id": "OBah1Je4cRYu"
      },
      "id": "OBah1Je4cRYu"
    },
    {
      "cell_type": "code",
      "execution_count": 33,
      "id": "eb80990f",
      "metadata": {
        "id": "eb80990f",
        "outputId": "34fedde5-4c45-4c2e-8cc7-45bb2b7b853e",
        "colab": {
          "base_uri": "https://localhost:8080/"
        }
      },
      "outputs": [
        {
          "output_type": "stream",
          "name": "stdout",
          "text": [
            "spammer        5000\n",
            "non-spammer    5000\n",
            "Name: label, dtype: int64\n"
          ]
        }
      ],
      "source": [
        "print(df['label'].value_counts())"
      ]
    },
    {
      "cell_type": "markdown",
      "source": [
        "**4. Dataset Splitting**"
      ],
      "metadata": {
        "id": "7V59dFBAcZ-A"
      },
      "id": "7V59dFBAcZ-A"
    },
    {
      "cell_type": "code",
      "execution_count": 34,
      "id": "ca1a4c98",
      "metadata": {
        "id": "ca1a4c98"
      },
      "outputs": [],
      "source": [
        "def read_dataset(filename):\n",
        "    return model_selection.train_test_split(df.drop(['label'], axis=1), df[\"label\"], train_size=0.8)"
      ]
    },
    {
      "cell_type": "code",
      "execution_count": 35,
      "id": "1325014d",
      "metadata": {
        "id": "1325014d"
      },
      "outputs": [],
      "source": [
        "Xtrain, Xtest, Ytrain, Ytest = read_dataset(df)"
      ]
    },
    {
      "cell_type": "code",
      "source": [
        "from sklearn.metrics import accuracy_score, confusion_matrix, classification_report\n",
        "\n",
        "def print_score(clf, X_train, y_train, X_test, y_test, train=True):\n",
        "    if train:\n",
        "        pred = clf.predict(X_train)\n",
        "        clf_report = pd.DataFrame(classification_report(y_train, pred, output_dict=True))\n",
        "        print(\"Train Result:\\n================================================\")\n",
        "        print(f\"Accuracy Score: {accuracy_score(y_train, pred) * 100:.2f}%\")\n",
        "        print(\"_______________________________________________\")\n",
        "        print(f\"CLASSIFICATION REPORT:\\n{clf_report}\")\n",
        "        print(\"_______________________________________________\")\n",
        "        print(f\"Confusion Matrix: \\n {confusion_matrix(y_train, pred)}\\n\")\n",
        "        \n",
        "    elif train==False:\n",
        "        pred = clf.predict(X_test)\n",
        "        clf_report = pd.DataFrame(classification_report(y_test, pred, output_dict=True))\n",
        "        print(\"Test Result:\\n================================================\")        \n",
        "        print(f\"Accuracy Score: {accuracy_score(y_test, pred) * 100:.2f}%\")\n",
        "        print(\"_______________________________________________\")\n",
        "        print(f\"CLASSIFICATION REPORT:\\n{clf_report}\")\n",
        "        print(\"_______________________________________________\")\n",
        "        print(f\"Confusion Matrix: \\n {confusion_matrix(y_test, pred)}\\n\")"
      ],
      "metadata": {
        "id": "4qSiScUztGXY"
      },
      "id": "4qSiScUztGXY",
      "execution_count": 36,
      "outputs": []
    },
    {
      "cell_type": "markdown",
      "source": [
        "**5. Claasification using Machine Learning Algorithm**"
      ],
      "metadata": {
        "id": "u1u34BXKcrLJ"
      },
      "id": "u1u34BXKcrLJ"
    },
    {
      "cell_type": "markdown",
      "source": [
        "**A. SVM**"
      ],
      "metadata": {
        "id": "eCTXz-vdssrD"
      },
      "id": "eCTXz-vdssrD"
    },
    {
      "cell_type": "code",
      "execution_count": 37,
      "id": "bb5a1c42",
      "metadata": {
        "id": "bb5a1c42",
        "colab": {
          "base_uri": "https://localhost:8080/"
        },
        "outputId": "b936aded-8a5a-4ece-b92f-041a26307c4f"
      },
      "outputs": [
        {
          "output_type": "stream",
          "name": "stdout",
          "text": [
            "Predictions: \n",
            " ['spammer' 'spammer' 'non-spammer' ... 'spammer' 'spammer' 'spammer']\n",
            "\n",
            "Confusion matrix: \n",
            " [[669 340]\n",
            " [116 875]]\n",
            "\n",
            "Evaluation metrics: \n",
            "               precision    recall  f1-score   support\n",
            "\n",
            " non-spammer       0.85      0.66      0.75      1009\n",
            "     spammer       0.72      0.88      0.79       991\n",
            "\n",
            "    accuracy                           0.77      2000\n",
            "   macro avg       0.79      0.77      0.77      2000\n",
            "weighted avg       0.79      0.77      0.77      2000\n",
            "\n",
            "Train Result:\n",
            "================================================\n",
            "Accuracy Score: 76.09%\n",
            "_______________________________________________\n",
            "CLASSIFICATION REPORT:\n",
            "           non-spammer      spammer  accuracy    macro avg  weighted avg\n",
            "precision     0.835594     0.713703  0.760875     0.774649      0.774512\n",
            "recall        0.648208     0.873036  0.760875     0.760622      0.760875\n",
            "f1-score      0.730069     0.785370  0.760875     0.757719      0.757782\n",
            "support    3991.000000  4009.000000  0.760875  8000.000000   8000.000000\n",
            "_______________________________________________\n",
            "Confusion Matrix: \n",
            " [[2587 1404]\n",
            " [ 509 3500]]\n",
            "\n",
            "Test Result:\n",
            "================================================\n",
            "Accuracy Score: 77.20%\n",
            "_______________________________________________\n",
            "CLASSIFICATION REPORT:\n",
            "           non-spammer     spammer  accuracy    macro avg  weighted avg\n",
            "precision     0.852229    0.720165     0.772     0.786197      0.786791\n",
            "recall        0.663033    0.882947     0.772     0.772990      0.772000\n",
            "f1-score      0.745819    0.793291     0.772     0.769555      0.769342\n",
            "support    1009.000000  991.000000     0.772  2000.000000   2000.000000\n",
            "_______________________________________________\n",
            "Confusion Matrix: \n",
            " [[669 340]\n",
            " [116 875]]\n",
            "\n"
          ]
        },
        {
          "output_type": "execute_result",
          "data": {
            "text/plain": [
              "['svm_clf.sav']"
            ]
          },
          "metadata": {},
          "execution_count": 37
        }
      ],
      "source": [
        "from sklearn.svm import SVC\n",
        "from sklearn.pipeline import make_pipeline\n",
        "from sklearn.preprocessing import StandardScaler\n",
        "\n",
        "\n",
        "svm_clf = make_pipeline(StandardScaler(), SVC())\n",
        "svm_clf.fit(Xtrain, Ytrain)\n",
        "predictions = svm_clf.predict(Xtest)\n",
        "\n",
        "print('Predictions: \\n', predictions)\n",
        "print('\\nConfusion matrix: \\n', confusion_matrix(Ytest, predictions))\n",
        "print('\\nEvaluation metrics: \\n',classification_report(Ytest, predictions))\n",
        "\n",
        "print_score(svm_clf, Xtrain, Ytrain, Xtest, Ytest, train=True)\n",
        "print_score(svm_clf, Xtrain, Ytrain, Xtest, Ytest, train=False)\n",
        "joblib.dump(svm_clf, 'svm_clf.sav') "
      ]
    },
    {
      "cell_type": "markdown",
      "source": [
        "**B. KNN**"
      ],
      "metadata": {
        "id": "07XSdulJZTkD"
      },
      "id": "07XSdulJZTkD"
    },
    {
      "cell_type": "code",
      "execution_count": 41,
      "id": "dd1dfcb0",
      "metadata": {
        "id": "dd1dfcb0",
        "colab": {
          "base_uri": "https://localhost:8080/"
        },
        "outputId": "19746068-f0a3-4542-cd29-569d2d8a306b"
      },
      "outputs": [
        {
          "output_type": "stream",
          "name": "stdout",
          "text": [
            "Predictions: \n",
            " ['spammer' 'non-spammer' 'non-spammer' ... 'spammer' 'spammer' 'spammer']\n",
            "\n",
            "Confusion matrix: \n",
            " [[749 260]\n",
            " [137 854]]\n",
            "\n",
            "Evaluation metrics: \n",
            "               precision    recall  f1-score   support\n",
            "\n",
            " non-spammer       0.85      0.74      0.79      1009\n",
            "     spammer       0.77      0.86      0.81       991\n",
            "\n",
            "    accuracy                           0.80      2000\n",
            "   macro avg       0.81      0.80      0.80      2000\n",
            "weighted avg       0.81      0.80      0.80      2000\n",
            "\n",
            "Train Result:\n",
            "================================================\n",
            "Accuracy Score: 100.00%\n",
            "_______________________________________________\n",
            "CLASSIFICATION REPORT:\n",
            "           non-spammer  spammer  accuracy  macro avg  weighted avg\n",
            "precision          1.0      1.0       1.0        1.0           1.0\n",
            "recall             1.0      1.0       1.0        1.0           1.0\n",
            "f1-score           1.0      1.0       1.0        1.0           1.0\n",
            "support         3991.0   4009.0       1.0     8000.0        8000.0\n",
            "_______________________________________________\n",
            "Confusion Matrix: \n",
            " [[3991    0]\n",
            " [   0 4009]]\n",
            "\n",
            "Test Result:\n",
            "================================================\n",
            "Accuracy Score: 80.15%\n",
            "_______________________________________________\n",
            "CLASSIFICATION REPORT:\n",
            "           non-spammer     spammer  accuracy    macro avg  weighted avg\n",
            "precision     0.845372    0.766607    0.8015     0.805990      0.806344\n",
            "recall        0.742319    0.861756    0.8015     0.802037      0.801500\n",
            "f1-score      0.790501    0.811401    0.8015     0.800951      0.800857\n",
            "support    1009.000000  991.000000    0.8015  2000.000000   2000.000000\n",
            "_______________________________________________\n",
            "Confusion Matrix: \n",
            " [[749 260]\n",
            " [137 854]]\n",
            "\n"
          ]
        },
        {
          "output_type": "execute_result",
          "data": {
            "text/plain": [
              "['clf_knn.sav']"
            ]
          },
          "metadata": {},
          "execution_count": 41
        }
      ],
      "source": [
        "from sklearn.neighbors import KNeighborsClassifier\n",
        "\n",
        "neigh = KNeighborsClassifier(n_neighbors=10, weights='distance', p=1)\n",
        "clf_knn = make_pipeline(StandardScaler(), neigh)\n",
        "clf_knn.fit(Xtrain, Ytrain)\n",
        "predictions = clf_knn.predict(Xtest)\n",
        "\n",
        "print('Predictions: \\n', predictions)\n",
        "print('\\nConfusion matrix: \\n', confusion_matrix(Ytest, predictions))\n",
        "print('\\nEvaluation metrics: \\n',classification_report(Ytest, predictions))\n",
        "\n",
        "print_score(clf_knn, Xtrain, Ytrain, Xtest, Ytest, train=True)\n",
        "print_score(clf_knn, Xtrain, Ytrain, Xtest, Ytest, train=False)\n",
        "\n",
        "joblib.dump(clf_knn, 'clf_knn.sav') "
      ]
    },
    {
      "cell_type": "markdown",
      "source": [
        "**C. Decision Tree**"
      ],
      "metadata": {
        "id": "Kg1eSpnQh4z2"
      },
      "id": "Kg1eSpnQh4z2"
    },
    {
      "cell_type": "code",
      "source": [
        "from sklearn.tree import DecisionTreeClassifier\n",
        "\n",
        "tree_clf = DecisionTreeClassifier(random_state=42)\n",
        "tree_clf.fit(Xtrain, Ytrain)\n",
        "\n",
        "print('Predictions: \\n', predictions)\n",
        "print('\\nConfusion matrix: \\n', confusion_matrix(Ytest, predictions))\n",
        "print('\\nEvaluation metrics: \\n',classification_report(Ytest, predictions))\n",
        "\n",
        "print_score(tree_clf, Xtrain, Ytrain, Xtest, Ytest, train=True)\n",
        "print_score(tree_clf, Xtrain, Ytrain, Xtest, Ytest, train=False)\n",
        "\n",
        "joblib.dump(tree_clf, 'clf_dt.sav') "
      ],
      "metadata": {
        "colab": {
          "base_uri": "https://localhost:8080/"
        },
        "id": "kU38MAQfh-Cp",
        "outputId": "e57f82ff-a1aa-4e85-bfc1-14ea6961b479"
      },
      "id": "kU38MAQfh-Cp",
      "execution_count": 42,
      "outputs": [
        {
          "output_type": "stream",
          "name": "stdout",
          "text": [
            "Predictions: \n",
            " ['spammer' 'non-spammer' 'non-spammer' ... 'spammer' 'spammer' 'spammer']\n",
            "\n",
            "Confusion matrix: \n",
            " [[749 260]\n",
            " [137 854]]\n",
            "\n",
            "Evaluation metrics: \n",
            "               precision    recall  f1-score   support\n",
            "\n",
            " non-spammer       0.85      0.74      0.79      1009\n",
            "     spammer       0.77      0.86      0.81       991\n",
            "\n",
            "    accuracy                           0.80      2000\n",
            "   macro avg       0.81      0.80      0.80      2000\n",
            "weighted avg       0.81      0.80      0.80      2000\n",
            "\n",
            "Train Result:\n",
            "================================================\n",
            "Accuracy Score: 100.00%\n",
            "_______________________________________________\n",
            "CLASSIFICATION REPORT:\n",
            "           non-spammer  spammer  accuracy  macro avg  weighted avg\n",
            "precision          1.0      1.0       1.0        1.0           1.0\n",
            "recall             1.0      1.0       1.0        1.0           1.0\n",
            "f1-score           1.0      1.0       1.0        1.0           1.0\n",
            "support         3991.0   4009.0       1.0     8000.0        8000.0\n",
            "_______________________________________________\n",
            "Confusion Matrix: \n",
            " [[3991    0]\n",
            " [   0 4009]]\n",
            "\n",
            "Test Result:\n",
            "================================================\n",
            "Accuracy Score: 78.85%\n",
            "_______________________________________________\n",
            "CLASSIFICATION REPORT:\n",
            "           non-spammer     spammer  accuracy    macro avg  weighted avg\n",
            "precision     0.790099    0.786869    0.7885     0.788484      0.788498\n",
            "recall        0.790882    0.786075    0.7885     0.788478      0.788500\n",
            "f1-score      0.790490    0.786471    0.7885     0.788481      0.788499\n",
            "support    1009.000000  991.000000    0.7885  2000.000000   2000.000000\n",
            "_______________________________________________\n",
            "Confusion Matrix: \n",
            " [[798 211]\n",
            " [212 779]]\n",
            "\n"
          ]
        },
        {
          "output_type": "execute_result",
          "data": {
            "text/plain": [
              "['clf_dt.sav']"
            ]
          },
          "metadata": {},
          "execution_count": 42
        }
      ]
    },
    {
      "cell_type": "markdown",
      "source": [
        "**D. Random Forest**"
      ],
      "metadata": {
        "id": "c-TmR3qOhxZh"
      },
      "id": "c-TmR3qOhxZh"
    },
    {
      "cell_type": "code",
      "execution_count": 43,
      "id": "df701a55",
      "metadata": {
        "id": "df701a55",
        "colab": {
          "base_uri": "https://localhost:8080/"
        },
        "outputId": "1068f679-2e5d-466c-fa6d-34adee4b15fc"
      },
      "outputs": [
        {
          "output_type": "stream",
          "name": "stdout",
          "text": [
            "Predictions: \n",
            " ['non-spammer' 'non-spammer' 'non-spammer' ... 'spammer' 'spammer'\n",
            " 'spammer']\n",
            "\n",
            "Confusion matrix: \n",
            " [[915  94]\n",
            " [149 842]]\n",
            "\n",
            "Evaluation metrics: \n",
            "               precision    recall  f1-score   support\n",
            "\n",
            " non-spammer       0.86      0.91      0.88      1009\n",
            "     spammer       0.90      0.85      0.87       991\n",
            "\n",
            "    accuracy                           0.88      2000\n",
            "   macro avg       0.88      0.88      0.88      2000\n",
            "weighted avg       0.88      0.88      0.88      2000\n",
            "\n",
            "Train Result:\n",
            "================================================\n",
            "Accuracy Score: 100.00%\n",
            "_______________________________________________\n",
            "CLASSIFICATION REPORT:\n",
            "           non-spammer  spammer  accuracy  macro avg  weighted avg\n",
            "precision          1.0      1.0       1.0        1.0           1.0\n",
            "recall             1.0      1.0       1.0        1.0           1.0\n",
            "f1-score           1.0      1.0       1.0        1.0           1.0\n",
            "support         3991.0   4009.0       1.0     8000.0        8000.0\n",
            "_______________________________________________\n",
            "Confusion Matrix: \n",
            " [[3991    0]\n",
            " [   0 4009]]\n",
            "\n",
            "Test Result:\n",
            "================================================\n",
            "Accuracy Score: 87.85%\n",
            "_______________________________________________\n",
            "CLASSIFICATION REPORT:\n",
            "           non-spammer     spammer  accuracy    macro avg  weighted avg\n",
            "precision     0.859962    0.899573    0.8785     0.879768      0.879589\n",
            "recall        0.906838    0.849647    0.8785     0.878243      0.878500\n",
            "f1-score      0.882779    0.873897    0.8785     0.878338      0.878378\n",
            "support    1009.000000  991.000000    0.8785  2000.000000   2000.000000\n",
            "_______________________________________________\n",
            "Confusion Matrix: \n",
            " [[915  94]\n",
            " [149 842]]\n",
            "\n"
          ]
        },
        {
          "output_type": "execute_result",
          "data": {
            "text/plain": [
              "['clf_rf.sav']"
            ]
          },
          "metadata": {},
          "execution_count": 43
        }
      ],
      "source": [
        "from sklearn.ensemble import RandomForestClassifier\n",
        "rand_for = RandomForestClassifier(criterion='entropy', n_estimators=100)\n",
        "clf_rf = make_pipeline(StandardScaler(), rand_for)\n",
        "clf_rf.fit(Xtrain, Ytrain)\n",
        "predictions = clf_rf.predict(Xtest)\n",
        "\n",
        "print('Predictions: \\n', predictions)\n",
        "print('\\nConfusion matrix: \\n', confusion_matrix(Ytest, predictions))\n",
        "print('\\nEvaluation metrics: \\n',classification_report(Ytest, predictions))\n",
        "\n",
        "print_score(clf_rf, Xtrain, Ytrain, Xtest, Ytest, train=True)\n",
        "print_score(clf_rf, Xtrain, Ytrain, Xtest, Ytest, train=False)\n",
        "\n",
        "joblib.dump(clf_rf, 'clf_rf.sav') "
      ]
    }
  ],
  "metadata": {
    "kernelspec": {
      "display_name": "Python 3 (ipykernel)",
      "language": "python",
      "name": "python3"
    },
    "language_info": {
      "codemirror_mode": {
        "name": "ipython",
        "version": 3
      },
      "file_extension": ".py",
      "mimetype": "text/x-python",
      "name": "python",
      "nbconvert_exporter": "python",
      "pygments_lexer": "ipython3",
      "version": "3.8.5"
    },
    "colab": {
      "provenance": []
    }
  },
  "nbformat": 4,
  "nbformat_minor": 5
}