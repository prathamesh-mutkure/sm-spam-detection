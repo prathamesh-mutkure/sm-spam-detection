{
  "cells": [
    {
      "attachments": {},
      "cell_type": "markdown",
      "metadata": {
        "id": "TsTM3NFbfl4k"
      },
      "source": [
        "1. Import Libraries"
      ]
    },
    {
      "cell_type": "code",
      "execution_count": 1,
      "metadata": {
        "id": "_684d-c7fnNT"
      },
      "outputs": [],
      "source": [
        "import pandas as pd\n",
        "import numpy as np\n",
        "import seaborn as sns\n",
        "import matplotlib.pyplot as plt\n",
        "sns.set()\n",
        "import imblearn\n",
        "from sklearn import model_selection\n",
        "from scipy import stats\n",
        "import joblib"
      ]
    },
    {
      "attachments": {},
      "cell_type": "markdown",
      "metadata": {
        "id": "D3ddlAe6fuJM"
      },
      "source": [
        "2. Import dataset"
      ]
    },
    {
      "cell_type": "code",
      "execution_count": 3,
      "metadata": {
        "colab": {
          "base_uri": "https://localhost:8080/",
          "height": 288
        },
        "id": "3jCLdE60gE15",
        "outputId": "9b3ed483-334b-4ffc-8911-dc6b9505c6db"
      },
      "outputs": [
        {
          "data": {
            "text/html": [
              "<div>\n",
              "<style scoped>\n",
              "    .dataframe tbody tr th:only-of-type {\n",
              "        vertical-align: middle;\n",
              "    }\n",
              "\n",
              "    .dataframe tbody tr th {\n",
              "        vertical-align: top;\n",
              "    }\n",
              "\n",
              "    .dataframe thead th {\n",
              "        text-align: right;\n",
              "    }\n",
              "</style>\n",
              "<table border=\"1\" class=\"dataframe\">\n",
              "  <thead>\n",
              "    <tr style=\"text-align: right;\">\n",
              "      <th></th>\n",
              "      <th>profile id</th>\n",
              "      <th>#friends</th>\n",
              "      <th>#following</th>\n",
              "      <th>#community</th>\n",
              "      <th>age</th>\n",
              "      <th>#postshared</th>\n",
              "      <th>#urlshared</th>\n",
              "      <th>#photos/videos</th>\n",
              "      <th>fpurls</th>\n",
              "      <th>fpphotos/videos</th>\n",
              "      <th>avgcomment/post</th>\n",
              "      <th>likes/post</th>\n",
              "      <th>tags/post</th>\n",
              "      <th>#tags/post</th>\n",
              "      <th>Label</th>\n",
              "    </tr>\n",
              "  </thead>\n",
              "  <tbody>\n",
              "    <tr>\n",
              "      <th>0</th>\n",
              "      <td>1</td>\n",
              "      <td>39</td>\n",
              "      <td>300</td>\n",
              "      <td>907</td>\n",
              "      <td>200</td>\n",
              "      <td>1000</td>\n",
              "      <td>850</td>\n",
              "      <td>922</td>\n",
              "      <td>0.490000</td>\n",
              "      <td>0.550000</td>\n",
              "      <td>0.56</td>\n",
              "      <td>0.47</td>\n",
              "      <td>40</td>\n",
              "      <td>14</td>\n",
              "      <td>1</td>\n",
              "    </tr>\n",
              "    <tr>\n",
              "      <th>1</th>\n",
              "      <td>2</td>\n",
              "      <td>150</td>\n",
              "      <td>350</td>\n",
              "      <td>30</td>\n",
              "      <td>300</td>\n",
              "      <td>300</td>\n",
              "      <td>100</td>\n",
              "      <td>290</td>\n",
              "      <td>0.330000</td>\n",
              "      <td>0.960000</td>\n",
              "      <td>0.50</td>\n",
              "      <td>1.20</td>\n",
              "      <td>10</td>\n",
              "      <td>4</td>\n",
              "      <td>0</td>\n",
              "    </tr>\n",
              "    <tr>\n",
              "      <th>2</th>\n",
              "      <td>3</td>\n",
              "      <td>300</td>\n",
              "      <td>450</td>\n",
              "      <td>50</td>\n",
              "      <td>465</td>\n",
              "      <td>500</td>\n",
              "      <td>150</td>\n",
              "      <td>450</td>\n",
              "      <td>0.200000</td>\n",
              "      <td>0.840000</td>\n",
              "      <td>0.40</td>\n",
              "      <td>1.50</td>\n",
              "      <td>15</td>\n",
              "      <td>7</td>\n",
              "      <td>0</td>\n",
              "    </tr>\n",
              "    <tr>\n",
              "      <th>3</th>\n",
              "      <td>4</td>\n",
              "      <td>25</td>\n",
              "      <td>110</td>\n",
              "      <td>660</td>\n",
              "      <td>350</td>\n",
              "      <td>2050</td>\n",
              "      <td>2000</td>\n",
              "      <td>2050</td>\n",
              "      <td>0.975610</td>\n",
              "      <td>1.000000</td>\n",
              "      <td>0.70</td>\n",
              "      <td>0.30</td>\n",
              "      <td>54</td>\n",
              "      <td>21</td>\n",
              "      <td>1</td>\n",
              "    </tr>\n",
              "    <tr>\n",
              "      <th>4</th>\n",
              "      <td>5</td>\n",
              "      <td>24</td>\n",
              "      <td>100</td>\n",
              "      <td>150</td>\n",
              "      <td>800</td>\n",
              "      <td>950</td>\n",
              "      <td>1000</td>\n",
              "      <td>900</td>\n",
              "      <td>1.052632</td>\n",
              "      <td>0.947368</td>\n",
              "      <td>0.66</td>\n",
              "      <td>0.50</td>\n",
              "      <td>55</td>\n",
              "      <td>20</td>\n",
              "      <td>1</td>\n",
              "    </tr>\n",
              "  </tbody>\n",
              "</table>\n",
              "</div>"
            ],
            "text/plain": [
              "   profile id  #friends  #following  #community  age  #postshared  #urlshared  \\\n",
              "0           1        39         300         907  200         1000         850   \n",
              "1           2       150         350          30  300          300         100   \n",
              "2           3       300         450          50  465          500         150   \n",
              "3           4        25         110         660  350         2050        2000   \n",
              "4           5        24         100         150  800          950        1000   \n",
              "\n",
              "   #photos/videos    fpurls  fpphotos/videos  avgcomment/post  likes/post  \\\n",
              "0             922  0.490000         0.550000             0.56        0.47   \n",
              "1             290  0.330000         0.960000             0.50        1.20   \n",
              "2             450  0.200000         0.840000             0.40        1.50   \n",
              "3            2050  0.975610         1.000000             0.70        0.30   \n",
              "4             900  1.052632         0.947368             0.66        0.50   \n",
              "\n",
              "   tags/post  #tags/post  Label  \n",
              "0         40          14      1  \n",
              "1         10           4      0  \n",
              "2         15           7      0  \n",
              "3         54          21      1  \n",
              "4         55          20      1  "
            ]
          },
          "execution_count": 3,
          "metadata": {},
          "output_type": "execute_result"
        }
      ],
      "source": [
        "df = pd.read_csv('facebook-dataset.csv')\n",
        "df.head()"
      ]
    },
    {
      "attachments": {},
      "cell_type": "markdown",
      "metadata": {
        "id": "SIlBtuTngZnS"
      },
      "source": [
        "Display Heads"
      ]
    },
    {
      "cell_type": "code",
      "execution_count": 4,
      "metadata": {
        "colab": {
          "base_uri": "https://localhost:8080/",
          "height": 193
        },
        "id": "LyQ0peamgdSH",
        "outputId": "a032949a-8bf8-4569-c9cf-970c94c09a56"
      },
      "outputs": [
        {
          "data": {
            "text/html": [
              "<div>\n",
              "<style scoped>\n",
              "    .dataframe tbody tr th:only-of-type {\n",
              "        vertical-align: middle;\n",
              "    }\n",
              "\n",
              "    .dataframe tbody tr th {\n",
              "        vertical-align: top;\n",
              "    }\n",
              "\n",
              "    .dataframe thead th {\n",
              "        text-align: right;\n",
              "    }\n",
              "</style>\n",
              "<table border=\"1\" class=\"dataframe\">\n",
              "  <thead>\n",
              "    <tr style=\"text-align: right;\">\n",
              "      <th></th>\n",
              "      <th>profile id</th>\n",
              "      <th>#friends</th>\n",
              "      <th>#following</th>\n",
              "      <th>#community</th>\n",
              "      <th>age</th>\n",
              "      <th>#postshared</th>\n",
              "      <th>#urlshared</th>\n",
              "      <th>#photos/videos</th>\n",
              "      <th>fpurls</th>\n",
              "      <th>fpphotos/videos</th>\n",
              "      <th>avgcomment/post</th>\n",
              "      <th>likes/post</th>\n",
              "      <th>tags/post</th>\n",
              "      <th>#tags/post</th>\n",
              "      <th>Label</th>\n",
              "    </tr>\n",
              "  </thead>\n",
              "  <tbody>\n",
              "    <tr>\n",
              "      <th>0</th>\n",
              "      <td>1</td>\n",
              "      <td>39</td>\n",
              "      <td>300</td>\n",
              "      <td>907</td>\n",
              "      <td>200</td>\n",
              "      <td>1000</td>\n",
              "      <td>850</td>\n",
              "      <td>922</td>\n",
              "      <td>0.49</td>\n",
              "      <td>0.55</td>\n",
              "      <td>0.56</td>\n",
              "      <td>0.47</td>\n",
              "      <td>40</td>\n",
              "      <td>14</td>\n",
              "      <td>1</td>\n",
              "    </tr>\n",
              "    <tr>\n",
              "      <th>1</th>\n",
              "      <td>2</td>\n",
              "      <td>150</td>\n",
              "      <td>350</td>\n",
              "      <td>30</td>\n",
              "      <td>300</td>\n",
              "      <td>300</td>\n",
              "      <td>100</td>\n",
              "      <td>290</td>\n",
              "      <td>0.33</td>\n",
              "      <td>0.96</td>\n",
              "      <td>0.50</td>\n",
              "      <td>1.20</td>\n",
              "      <td>10</td>\n",
              "      <td>4</td>\n",
              "      <td>0</td>\n",
              "    </tr>\n",
              "  </tbody>\n",
              "</table>\n",
              "</div>"
            ],
            "text/plain": [
              "   profile id  #friends  #following  #community  age  #postshared  #urlshared  \\\n",
              "0           1        39         300         907  200         1000         850   \n",
              "1           2       150         350          30  300          300         100   \n",
              "\n",
              "   #photos/videos  fpurls  fpphotos/videos  avgcomment/post  likes/post  \\\n",
              "0             922    0.49             0.55             0.56        0.47   \n",
              "1             290    0.33             0.96             0.50        1.20   \n",
              "\n",
              "   tags/post  #tags/post  Label  \n",
              "0         40          14      1  \n",
              "1         10           4      0  "
            ]
          },
          "execution_count": 4,
          "metadata": {},
          "output_type": "execute_result"
        }
      ],
      "source": [
        "df.head(2)"
      ]
    },
    {
      "attachments": {},
      "cell_type": "markdown",
      "metadata": {
        "id": "EhNXxcILgkvD"
      },
      "source": [
        "Describe the dataset"
      ]
    },
    {
      "cell_type": "code",
      "execution_count": 5,
      "metadata": {
        "colab": {
          "base_uri": "https://localhost:8080/",
          "height": 382
        },
        "id": "_Y5S9NaHglaY",
        "outputId": "5e1dbbeb-00ad-4090-d752-b5b9ee141710"
      },
      "outputs": [
        {
          "data": {
            "text/html": [
              "<div>\n",
              "<style scoped>\n",
              "    .dataframe tbody tr th:only-of-type {\n",
              "        vertical-align: middle;\n",
              "    }\n",
              "\n",
              "    .dataframe tbody tr th {\n",
              "        vertical-align: top;\n",
              "    }\n",
              "\n",
              "    .dataframe thead th {\n",
              "        text-align: right;\n",
              "    }\n",
              "</style>\n",
              "<table border=\"1\" class=\"dataframe\">\n",
              "  <thead>\n",
              "    <tr style=\"text-align: right;\">\n",
              "      <th></th>\n",
              "      <th>profile id</th>\n",
              "      <th>#friends</th>\n",
              "      <th>#following</th>\n",
              "      <th>#community</th>\n",
              "      <th>age</th>\n",
              "      <th>#postshared</th>\n",
              "      <th>#urlshared</th>\n",
              "      <th>#photos/videos</th>\n",
              "      <th>fpurls</th>\n",
              "      <th>fpphotos/videos</th>\n",
              "      <th>avgcomment/post</th>\n",
              "      <th>likes/post</th>\n",
              "      <th>tags/post</th>\n",
              "      <th>#tags/post</th>\n",
              "      <th>Label</th>\n",
              "    </tr>\n",
              "  </thead>\n",
              "  <tbody>\n",
              "    <tr>\n",
              "      <th>count</th>\n",
              "      <td>600.000000</td>\n",
              "      <td>600.000000</td>\n",
              "      <td>600.000000</td>\n",
              "      <td>600.000000</td>\n",
              "      <td>600.000000</td>\n",
              "      <td>600.000000</td>\n",
              "      <td>600.000000</td>\n",
              "      <td>600.000000</td>\n",
              "      <td>600.000000</td>\n",
              "      <td>600.000000</td>\n",
              "      <td>600.000000</td>\n",
              "      <td>600.000000</td>\n",
              "      <td>600.000000</td>\n",
              "      <td>600.000000</td>\n",
              "      <td>600.000000</td>\n",
              "    </tr>\n",
              "    <tr>\n",
              "      <th>mean</th>\n",
              "      <td>301.175000</td>\n",
              "      <td>1066.355000</td>\n",
              "      <td>1068.670000</td>\n",
              "      <td>207.646667</td>\n",
              "      <td>1214.605000</td>\n",
              "      <td>1158.115000</td>\n",
              "      <td>369.750000</td>\n",
              "      <td>1120.783333</td>\n",
              "      <td>0.186946</td>\n",
              "      <td>0.961135</td>\n",
              "      <td>1.589399</td>\n",
              "      <td>0.880745</td>\n",
              "      <td>40.060000</td>\n",
              "      <td>16.001667</td>\n",
              "      <td>0.171667</td>\n",
              "    </tr>\n",
              "    <tr>\n",
              "      <th>std</th>\n",
              "      <td>173.729861</td>\n",
              "      <td>669.497972</td>\n",
              "      <td>677.262425</td>\n",
              "      <td>370.622053</td>\n",
              "      <td>471.261985</td>\n",
              "      <td>835.521159</td>\n",
              "      <td>720.084739</td>\n",
              "      <td>836.186049</td>\n",
              "      <td>0.251061</td>\n",
              "      <td>0.145149</td>\n",
              "      <td>27.129974</td>\n",
              "      <td>0.504153</td>\n",
              "      <td>15.958096</td>\n",
              "      <td>6.434335</td>\n",
              "      <td>0.377405</td>\n",
              "    </tr>\n",
              "    <tr>\n",
              "      <th>min</th>\n",
              "      <td>1.000000</td>\n",
              "      <td>4.000000</td>\n",
              "      <td>1.000000</td>\n",
              "      <td>12.000000</td>\n",
              "      <td>125.000000</td>\n",
              "      <td>76.000000</td>\n",
              "      <td>11.000000</td>\n",
              "      <td>65.000000</td>\n",
              "      <td>0.011226</td>\n",
              "      <td>0.000000</td>\n",
              "      <td>0.000000</td>\n",
              "      <td>0.102000</td>\n",
              "      <td>10.000000</td>\n",
              "      <td>1.000000</td>\n",
              "      <td>0.000000</td>\n",
              "    </tr>\n",
              "    <tr>\n",
              "      <th>25%</th>\n",
              "      <td>150.750000</td>\n",
              "      <td>663.500000</td>\n",
              "      <td>658.000000</td>\n",
              "      <td>39.000000</td>\n",
              "      <td>926.500000</td>\n",
              "      <td>588.250000</td>\n",
              "      <td>38.000000</td>\n",
              "      <td>563.750000</td>\n",
              "      <td>0.042174</td>\n",
              "      <td>0.930512</td>\n",
              "      <td>0.267250</td>\n",
              "      <td>0.456000</td>\n",
              "      <td>30.000000</td>\n",
              "      <td>12.000000</td>\n",
              "      <td>0.000000</td>\n",
              "    </tr>\n",
              "    <tr>\n",
              "      <th>50%</th>\n",
              "      <td>301.500000</td>\n",
              "      <td>1159.000000</td>\n",
              "      <td>1132.000000</td>\n",
              "      <td>56.000000</td>\n",
              "      <td>1136.000000</td>\n",
              "      <td>876.500000</td>\n",
              "      <td>49.000000</td>\n",
              "      <td>826.500000</td>\n",
              "      <td>0.076754</td>\n",
              "      <td>0.969883</td>\n",
              "      <td>0.456000</td>\n",
              "      <td>0.880000</td>\n",
              "      <td>39.000000</td>\n",
              "      <td>15.500000</td>\n",
              "      <td>0.000000</td>\n",
              "    </tr>\n",
              "    <tr>\n",
              "      <th>75%</th>\n",
              "      <td>451.250000</td>\n",
              "      <td>1473.750000</td>\n",
              "      <td>1473.750000</td>\n",
              "      <td>77.000000</td>\n",
              "      <td>1452.250000</td>\n",
              "      <td>1410.000000</td>\n",
              "      <td>83.000000</td>\n",
              "      <td>1380.000000</td>\n",
              "      <td>0.131323</td>\n",
              "      <td>0.993068</td>\n",
              "      <td>0.630000</td>\n",
              "      <td>1.230000</td>\n",
              "      <td>47.000000</td>\n",
              "      <td>19.250000</td>\n",
              "      <td>0.000000</td>\n",
              "    </tr>\n",
              "    <tr>\n",
              "      <th>max</th>\n",
              "      <td>601.000000</td>\n",
              "      <td>5554.000000</td>\n",
              "      <td>5312.000000</td>\n",
              "      <td>1789.000000</td>\n",
              "      <td>2697.000000</td>\n",
              "      <td>3896.000000</td>\n",
              "      <td>2956.000000</td>\n",
              "      <td>3891.000000</td>\n",
              "      <td>1.086957</td>\n",
              "      <td>2.739726</td>\n",
              "      <td>665.000000</td>\n",
              "      <td>2.800000</td>\n",
              "      <td>99.000000</td>\n",
              "      <td>32.000000</td>\n",
              "      <td>1.000000</td>\n",
              "    </tr>\n",
              "  </tbody>\n",
              "</table>\n",
              "</div>"
            ],
            "text/plain": [
              "       profile id     #friends   #following   #community          age  \\\n",
              "count  600.000000   600.000000   600.000000   600.000000   600.000000   \n",
              "mean   301.175000  1066.355000  1068.670000   207.646667  1214.605000   \n",
              "std    173.729861   669.497972   677.262425   370.622053   471.261985   \n",
              "min      1.000000     4.000000     1.000000    12.000000   125.000000   \n",
              "25%    150.750000   663.500000   658.000000    39.000000   926.500000   \n",
              "50%    301.500000  1159.000000  1132.000000    56.000000  1136.000000   \n",
              "75%    451.250000  1473.750000  1473.750000    77.000000  1452.250000   \n",
              "max    601.000000  5554.000000  5312.000000  1789.000000  2697.000000   \n",
              "\n",
              "       #postshared   #urlshared  #photos/videos      fpurls  fpphotos/videos  \\\n",
              "count   600.000000   600.000000      600.000000  600.000000       600.000000   \n",
              "mean   1158.115000   369.750000     1120.783333    0.186946         0.961135   \n",
              "std     835.521159   720.084739      836.186049    0.251061         0.145149   \n",
              "min      76.000000    11.000000       65.000000    0.011226         0.000000   \n",
              "25%     588.250000    38.000000      563.750000    0.042174         0.930512   \n",
              "50%     876.500000    49.000000      826.500000    0.076754         0.969883   \n",
              "75%    1410.000000    83.000000     1380.000000    0.131323         0.993068   \n",
              "max    3896.000000  2956.000000     3891.000000    1.086957         2.739726   \n",
              "\n",
              "       avgcomment/post  likes/post   tags/post  #tags/post       Label  \n",
              "count       600.000000  600.000000  600.000000  600.000000  600.000000  \n",
              "mean          1.589399    0.880745   40.060000   16.001667    0.171667  \n",
              "std          27.129974    0.504153   15.958096    6.434335    0.377405  \n",
              "min           0.000000    0.102000   10.000000    1.000000    0.000000  \n",
              "25%           0.267250    0.456000   30.000000   12.000000    0.000000  \n",
              "50%           0.456000    0.880000   39.000000   15.500000    0.000000  \n",
              "75%           0.630000    1.230000   47.000000   19.250000    0.000000  \n",
              "max         665.000000    2.800000   99.000000   32.000000    1.000000  "
            ]
          },
          "execution_count": 5,
          "metadata": {},
          "output_type": "execute_result"
        }
      ],
      "source": [
        "df.describe()"
      ]
    },
    {
      "attachments": {},
      "cell_type": "markdown",
      "metadata": {
        "id": "4Eg9aupwgpWu"
      },
      "source": [
        "Display information of the dataset"
      ]
    },
    {
      "cell_type": "code",
      "execution_count": 6,
      "metadata": {
        "colab": {
          "base_uri": "https://localhost:8080/"
        },
        "id": "j9WdpH-Sgpko",
        "outputId": "dc55cd57-e425-47ef-bb62-4d464385877f"
      },
      "outputs": [
        {
          "data": {
            "text/plain": [
              "<bound method DataFrame.info of      profile id  #friends  #following  #community   age  #postshared  \\\n",
              "0             1        39         300         907   200         1000   \n",
              "1             2       150         350          30   300          300   \n",
              "2             3       300         450          50   465          500   \n",
              "3             4        25         110         660   350         2050   \n",
              "4             5        24         100         150   800          950   \n",
              "..          ...       ...         ...         ...   ...          ...   \n",
              "595         597        83          29         510  2000         2994   \n",
              "596         598        93          28         563  2500         3420   \n",
              "597         599        33          27        1000   900         1945   \n",
              "598         600       100          26        1500   800         1876   \n",
              "599         601        25          17         730  1560         2002   \n",
              "\n",
              "     #urlshared  #photos/videos    fpurls  fpphotos/videos  avgcomment/post  \\\n",
              "0           850             922  0.490000         0.550000            0.560   \n",
              "1           100             290  0.330000         0.960000            0.500   \n",
              "2           150             450  0.200000         0.840000            0.400   \n",
              "3          2000            2050  0.975610         1.000000            0.700   \n",
              "4          1000             900  1.052632         0.947368            0.660   \n",
              "..          ...             ...       ...              ...              ...   \n",
              "595        1876            2990  0.626587         0.998664            0.768   \n",
              "596        2364            3415  0.691228         0.998538            0.659   \n",
              "597        1520            1936  0.781491         0.995373            0.999   \n",
              "598        1320            1874  0.703625         0.998934            1.000   \n",
              "599        1546            2000  0.772228         0.999001            0.800   \n",
              "\n",
              "     likes/post  tags/post  #tags/post  Label  \n",
              "0         0.470         40          14      1  \n",
              "1         1.200         10           4      0  \n",
              "2         1.500         15           7      0  \n",
              "3         0.300         54          21      1  \n",
              "4         0.500         55          20      1  \n",
              "..          ...        ...         ...    ...  \n",
              "595       0.154         49          26      1  \n",
              "596       0.165         47          25      1  \n",
              "597       0.122         45          23      1  \n",
              "598       0.102         46          21      0  \n",
              "599       0.150         52          27      0  \n",
              "\n",
              "[600 rows x 15 columns]>"
            ]
          },
          "execution_count": 6,
          "metadata": {},
          "output_type": "execute_result"
        }
      ],
      "source": [
        "df.info"
      ]
    },
    {
      "attachments": {},
      "cell_type": "markdown",
      "metadata": {
        "id": "ZIlelFnLgwcw"
      },
      "source": [
        "Display the shape (No. of rows and columns) of the dataset"
      ]
    },
    {
      "cell_type": "code",
      "execution_count": 7,
      "metadata": {
        "colab": {
          "base_uri": "https://localhost:8080/"
        },
        "id": "6bytPeUagxGY",
        "outputId": "bd433630-903a-4fa8-d40d-c918ec60b9bb"
      },
      "outputs": [
        {
          "data": {
            "text/plain": [
              "(600, 15)"
            ]
          },
          "execution_count": 7,
          "metadata": {},
          "output_type": "execute_result"
        }
      ],
      "source": [
        "df.shape"
      ]
    },
    {
      "attachments": {},
      "cell_type": "markdown",
      "metadata": {
        "id": "00ssTYVkgzpU"
      },
      "source": [
        "Check the null values in the dataset"
      ]
    },
    {
      "cell_type": "code",
      "execution_count": 8,
      "metadata": {
        "colab": {
          "base_uri": "https://localhost:8080/"
        },
        "id": "jp-0KE2pg1jA",
        "outputId": "80d4a6bd-a7bc-4966-fcec-bb4869e6acf1"
      },
      "outputs": [
        {
          "data": {
            "text/plain": [
              "profile id         0\n",
              "#friends           0\n",
              "#following         0\n",
              "#community         0\n",
              "age                0\n",
              "#postshared        0\n",
              "#urlshared         0\n",
              "#photos/videos     0\n",
              "fpurls             0\n",
              "fpphotos/videos    0\n",
              "avgcomment/post    0\n",
              "likes/post         0\n",
              "tags/post          0\n",
              "#tags/post         0\n",
              "Label              0\n",
              "dtype: int64"
            ]
          },
          "execution_count": 8,
          "metadata": {},
          "output_type": "execute_result"
        }
      ],
      "source": [
        "df.isnull().sum()"
      ]
    },
    {
      "cell_type": "code",
      "execution_count": 9,
      "metadata": {
        "id": "RlCQxZuRjxMc"
      },
      "outputs": [],
      "source": [
        "df = df\n",
        "df['Label'].replace([0,1], ['Legitimate', 'Fake'], inplace=True)\n",
        "df.drop('profile id', axis=1, inplace=True)"
      ]
    },
    {
      "attachments": {},
      "cell_type": "markdown",
      "metadata": {
        "id": "So6ygpMGg5_R"
      },
      "source": [
        "Print number of Features and no of samples"
      ]
    },
    {
      "cell_type": "code",
      "execution_count": 10,
      "metadata": {
        "colab": {
          "base_uri": "https://localhost:8080/"
        },
        "id": "FArJXRPlg6i_",
        "outputId": "510a35d3-de29-46bc-fcd1-98540618ef18"
      },
      "outputs": [
        {
          "name": "stdout",
          "output_type": "stream",
          "text": [
            "Number of features: 14\n",
            "Number of examples: 600\n"
          ]
        }
      ],
      "source": [
        "print('Number of features: {}'.format(df.shape[1]))\n",
        "print('Number of examples: {}'.format(df.shape[0]))"
      ]
    },
    {
      "attachments": {},
      "cell_type": "markdown",
      "metadata": {
        "id": "UY9jc8bVg9HZ"
      },
      "source": [
        "**3. Data Visualization**\n",
        "\n",
        "Scatter Plot"
      ]
    },
    {
      "cell_type": "code",
      "execution_count": 11,
      "metadata": {
        "colab": {
          "base_uri": "https://localhost:8080/",
          "height": 464
        },
        "id": "DjWSq8W8hAOC",
        "outputId": "aa60f47b-aa38-4283-f22b-cb415477a9f7"
      },
      "outputs": [
        {
          "data": {
            "image/png": "[encoded data removed]",
            "text/plain": [
              "<Figure size 900x700 with 1 Axes>"
            ]
          },
          "metadata": {},
          "output_type": "display_data"
        }
      ],
      "source": [
        "import matplotlib.pyplot as plt\n",
        "# Create another figure\n",
        "plt.figure(figsize=(9, 7))\n",
        "\n",
        "# Scatter with postivie examples\n",
        "plt.scatter(df.age[df.Label ==1],\n",
        "            df.fpurls[df.Label==1],\n",
        "            c=\"salmon\")\n",
        "\n",
        "# Scatter with negative examples\n",
        "plt.scatter(df.age[df.Label ==0],\n",
        "            df.fpurls[df.Label ==0],\n",
        "            c=\"lightblue\")\n",
        "\n",
        "# Add some helpful info\n",
        "plt.title(\"Spam Detection account_age VS no_tweets\")\n",
        "plt.xlabel(\"age\")\n",
        "plt.ylabel(\"fpurls\")\n",
        "plt.legend([\"0\", \"1\"]);"
      ]
    },
    {
      "attachments": {},
      "cell_type": "markdown",
      "metadata": {
        "id": "8bljoblniHT0"
      },
      "source": [
        "Correlation Matrix"
      ]
    },
    {
      "cell_type": "code",
      "execution_count": 12,
      "metadata": {
        "colab": {
          "base_uri": "https://localhost:8080/",
          "height": 977
        },
        "id": "mLn93VS6iKdK",
        "outputId": "33658ae8-f332-4b76-9e68-a1f59bed2448"
      },
      "outputs": [
        {
          "ename": "ValueError",
          "evalue": "could not convert string to float: 'Fake'",
          "output_type": "error",
          "traceback": [
            "\u001b[0;31m---------------------------------------------------------------------------\u001b[0m",
            "\u001b[0;31mValueError\u001b[0m                                Traceback (most recent call last)",
            "Cell \u001b[0;32mIn[12], line 3\u001b[0m\n\u001b[1;32m      1\u001b[0m \u001b[39m# Let's make our correlation matrix a little prettier\u001b[39;00m\n\u001b[1;32m      2\u001b[0m \u001b[39mimport\u001b[39;00m \u001b[39mseaborn\u001b[39;00m \u001b[39mas\u001b[39;00m \u001b[39msns\u001b[39;00m\n\u001b[0;32m----> 3\u001b[0m corr_matrix \u001b[39m=\u001b[39m df\u001b[39m.\u001b[39;49mcorr()\n\u001b[1;32m      4\u001b[0m fig, ax \u001b[39m=\u001b[39m plt\u001b[39m.\u001b[39msubplots(figsize\u001b[39m=\u001b[39m(\u001b[39m15\u001b[39m, \u001b[39m15\u001b[39m))\n\u001b[1;32m      5\u001b[0m ax \u001b[39m=\u001b[39m sns\u001b[39m.\u001b[39mheatmap(corr_matrix,\n\u001b[1;32m      6\u001b[0m                  annot\u001b[39m=\u001b[39m\u001b[39mTrue\u001b[39;00m,\n\u001b[1;32m      7\u001b[0m                  linewidths\u001b[39m=\u001b[39m\u001b[39m0.5\u001b[39m,\n\u001b[1;32m      8\u001b[0m                  fmt\u001b[39m=\u001b[39m\u001b[39m\"\u001b[39m\u001b[39m.3f\u001b[39m\u001b[39m\"\u001b[39m,\n\u001b[1;32m      9\u001b[0m                  cmap\u001b[39m=\u001b[39m\u001b[39m\"\u001b[39m\u001b[39mYlGnBu\u001b[39m\u001b[39m\"\u001b[39m);\n",
            "File \u001b[0;32m~/Desktop/Freelance-Projects/spam-detection/backend/venv/lib/python3.11/site-packages/pandas/core/frame.py:10054\u001b[0m, in \u001b[0;36mDataFrame.corr\u001b[0;34m(self, method, min_periods, numeric_only)\u001b[0m\n\u001b[1;32m  10052\u001b[0m cols \u001b[39m=\u001b[39m data\u001b[39m.\u001b[39mcolumns\n\u001b[1;32m  10053\u001b[0m idx \u001b[39m=\u001b[39m cols\u001b[39m.\u001b[39mcopy()\n\u001b[0;32m> 10054\u001b[0m mat \u001b[39m=\u001b[39m data\u001b[39m.\u001b[39;49mto_numpy(dtype\u001b[39m=\u001b[39;49m\u001b[39mfloat\u001b[39;49m, na_value\u001b[39m=\u001b[39;49mnp\u001b[39m.\u001b[39;49mnan, copy\u001b[39m=\u001b[39;49m\u001b[39mFalse\u001b[39;49;00m)\n\u001b[1;32m  10056\u001b[0m \u001b[39mif\u001b[39;00m method \u001b[39m==\u001b[39m \u001b[39m\"\u001b[39m\u001b[39mpearson\u001b[39m\u001b[39m\"\u001b[39m:\n\u001b[1;32m  10057\u001b[0m     correl \u001b[39m=\u001b[39m libalgos\u001b[39m.\u001b[39mnancorr(mat, minp\u001b[39m=\u001b[39mmin_periods)\n",
            "File \u001b[0;32m~/Desktop/Freelance-Projects/spam-detection/backend/venv/lib/python3.11/site-packages/pandas/core/frame.py:1838\u001b[0m, in \u001b[0;36mDataFrame.to_numpy\u001b[0;34m(self, dtype, copy, na_value)\u001b[0m\n\u001b[1;32m   1836\u001b[0m \u001b[39mif\u001b[39;00m dtype \u001b[39mis\u001b[39;00m \u001b[39mnot\u001b[39;00m \u001b[39mNone\u001b[39;00m:\n\u001b[1;32m   1837\u001b[0m     dtype \u001b[39m=\u001b[39m np\u001b[39m.\u001b[39mdtype(dtype)\n\u001b[0;32m-> 1838\u001b[0m result \u001b[39m=\u001b[39m \u001b[39mself\u001b[39;49m\u001b[39m.\u001b[39;49m_mgr\u001b[39m.\u001b[39;49mas_array(dtype\u001b[39m=\u001b[39;49mdtype, copy\u001b[39m=\u001b[39;49mcopy, na_value\u001b[39m=\u001b[39;49mna_value)\n\u001b[1;32m   1839\u001b[0m \u001b[39mif\u001b[39;00m result\u001b[39m.\u001b[39mdtype \u001b[39mis\u001b[39;00m \u001b[39mnot\u001b[39;00m dtype:\n\u001b[1;32m   1840\u001b[0m     result \u001b[39m=\u001b[39m np\u001b[39m.\u001b[39marray(result, dtype\u001b[39m=\u001b[39mdtype, copy\u001b[39m=\u001b[39m\u001b[39mFalse\u001b[39;00m)\n",
            "File \u001b[0;32m~/Desktop/Freelance-Projects/spam-detection/backend/venv/lib/python3.11/site-packages/pandas/core/internals/managers.py:1732\u001b[0m, in \u001b[0;36mBlockManager.as_array\u001b[0;34m(self, dtype, copy, na_value)\u001b[0m\n\u001b[1;32m   1730\u001b[0m         arr\u001b[39m.\u001b[39mflags\u001b[39m.\u001b[39mwriteable \u001b[39m=\u001b[39m \u001b[39mFalse\u001b[39;00m\n\u001b[1;32m   1731\u001b[0m \u001b[39melse\u001b[39;00m:\n\u001b[0;32m-> 1732\u001b[0m     arr \u001b[39m=\u001b[39m \u001b[39mself\u001b[39;49m\u001b[39m.\u001b[39;49m_interleave(dtype\u001b[39m=\u001b[39;49mdtype, na_value\u001b[39m=\u001b[39;49mna_value)\n\u001b[1;32m   1733\u001b[0m     \u001b[39m# The underlying data was copied within _interleave, so no need\u001b[39;00m\n\u001b[1;32m   1734\u001b[0m     \u001b[39m# to further copy if copy=True or setting na_value\u001b[39;00m\n\u001b[1;32m   1736\u001b[0m \u001b[39mif\u001b[39;00m na_value \u001b[39mis\u001b[39;00m \u001b[39mnot\u001b[39;00m lib\u001b[39m.\u001b[39mno_default:\n",
            "File \u001b[0;32m~/Desktop/Freelance-Projects/spam-detection/backend/venv/lib/python3.11/site-packages/pandas/core/internals/managers.py:1794\u001b[0m, in \u001b[0;36mBlockManager._interleave\u001b[0;34m(self, dtype, na_value)\u001b[0m\n\u001b[1;32m   1792\u001b[0m     \u001b[39melse\u001b[39;00m:\n\u001b[1;32m   1793\u001b[0m         arr \u001b[39m=\u001b[39m blk\u001b[39m.\u001b[39mget_values(dtype)\n\u001b[0;32m-> 1794\u001b[0m     result[rl\u001b[39m.\u001b[39;49mindexer] \u001b[39m=\u001b[39m arr\n\u001b[1;32m   1795\u001b[0m     itemmask[rl\u001b[39m.\u001b[39mindexer] \u001b[39m=\u001b[39m \u001b[39m1\u001b[39m\n\u001b[1;32m   1797\u001b[0m \u001b[39mif\u001b[39;00m \u001b[39mnot\u001b[39;00m itemmask\u001b[39m.\u001b[39mall():\n",
            "\u001b[0;31mValueError\u001b[0m: could not convert string to float: 'Fake'"
          ]
        }
      ],
      "source": [
        "# Let's make our correlation matrix a little prettier\n",
        "import seaborn as sns\n",
        "corr_matrix = df.corr()\n",
        "fig, ax = plt.subplots(figsize=(15, 15))\n",
        "ax = sns.heatmap(corr_matrix,\n",
        "                 annot=True,\n",
        "                 linewidths=0.5,\n",
        "                 fmt=\".3f\",\n",
        "                 cmap=\"YlGnBu\");\n",
        "bottom, top = ax.get_ylim()\n",
        "ax.set_ylim(bottom + 0.5, top - 0.5)"
      ]
    },
    {
      "attachments": {},
      "cell_type": "markdown",
      "metadata": {
        "id": "OFDCYpqciSHQ"
      },
      "source": [
        "Count Number Positive and Negative samples"
      ]
    },
    {
      "cell_type": "code",
      "execution_count": 13,
      "metadata": {
        "colab": {
          "base_uri": "https://localhost:8080/"
        },
        "id": "i7NurAstiVBJ",
        "outputId": "ab47ee1f-fb93-4b48-b7c4-b39656c0b677"
      },
      "outputs": [
        {
          "name": "stdout",
          "output_type": "stream",
          "text": [
            "Label\n",
            "Legitimate    497\n",
            "Fake          103\n",
            "Name: count, dtype: int64\n"
          ]
        }
      ],
      "source": [
        "print(df['Label'].value_counts())"
      ]
    },
    {
      "cell_type": "code",
      "execution_count": 14,
      "metadata": {
        "colab": {
          "base_uri": "https://localhost:8080/"
        },
        "id": "eBX2TvcUk2A_",
        "outputId": "a3f72728-6048-40c4-fa9b-4b10b58aebc7"
      },
      "outputs": [
        {
          "name": "stdout",
          "output_type": "stream",
          "text": [
            "     #friends  #following  #community   age  #postshared  #urlshared  \\\n",
            "0          39         300         907   200         1000         850   \n",
            "1         150         350          30   300          300         100   \n",
            "2         300         450          50   465          500         150   \n",
            "3          25         110         660   350         2050        2000   \n",
            "4          24         100         150   800          950        1000   \n",
            "..        ...         ...         ...   ...          ...         ...   \n",
            "595        83          29         510  2000         2994        1876   \n",
            "596        93          28         563  2500         3420        2364   \n",
            "597        33          27        1000   900         1945        1520   \n",
            "598       100          26        1500   800         1876        1320   \n",
            "599        25          17         730  1560         2002        1546   \n",
            "\n",
            "     #photos/videos    fpurls  fpphotos/videos  avgcomment/post  likes/post  \\\n",
            "0               922  0.490000         0.550000            0.560       0.470   \n",
            "1               290  0.330000         0.960000            0.500       1.200   \n",
            "2               450  0.200000         0.840000            0.400       1.500   \n",
            "3              2050  0.975610         1.000000            0.700       0.300   \n",
            "4               900  1.052632         0.947368            0.660       0.500   \n",
            "..              ...       ...              ...              ...         ...   \n",
            "595            2990  0.626587         0.998664            0.768       0.154   \n",
            "596            3415  0.691228         0.998538            0.659       0.165   \n",
            "597            1936  0.781491         0.995373            0.999       0.122   \n",
            "598            1874  0.703625         0.998934            1.000       0.102   \n",
            "599            2000  0.772228         0.999001            0.800       0.150   \n",
            "\n",
            "     tags/post  #tags/post  Label  \n",
            "0           40          14      0  \n",
            "1           10           4      1  \n",
            "2           15           7      1  \n",
            "3           54          21      0  \n",
            "4           55          20      0  \n",
            "..         ...         ...    ...  \n",
            "595         49          26      0  \n",
            "596         47          25      0  \n",
            "597         45          23      0  \n",
            "598         46          21      1  \n",
            "599         52          27      1  \n",
            "\n",
            "[600 rows x 14 columns]\n"
          ]
        }
      ],
      "source": [
        "\n",
        "df['Label'] = pd.Categorical(df['Label']).codes\n",
        "print(df)"
      ]
    },
    {
      "attachments": {},
      "cell_type": "markdown",
      "metadata": {
        "id": "JyptTZ0yifAg"
      },
      "source": [
        "4. Dataset Splitting"
      ]
    },
    {
      "cell_type": "code",
      "execution_count": 15,
      "metadata": {
        "id": "QQ61Oy_4igg3"
      },
      "outputs": [],
      "source": [
        "def read_dataset(filename):\n",
        "    return model_selection.train_test_split(df.drop(['Label'], axis=1), df[\"Label\"], train_size=0.8)"
      ]
    },
    {
      "cell_type": "code",
      "execution_count": 16,
      "metadata": {
        "id": "lVQkEvlrimT_"
      },
      "outputs": [],
      "source": [
        "Xtrain, Xtest, Ytrain, Ytest = read_dataset(df)"
      ]
    },
    {
      "cell_type": "code",
      "execution_count": 17,
      "metadata": {
        "id": "qWDTBVmdi8Ap"
      },
      "outputs": [],
      "source": [
        "from sklearn.metrics import accuracy_score, confusion_matrix, classification_report\n",
        "\n",
        "def print_score(clf, X_train, y_train, X_test, y_test, train=True):\n",
        "    if train:\n",
        "        pred = clf.predict(X_train)\n",
        "        clf_report = pd.DataFrame(classification_report(y_train, pred, output_dict=True))\n",
        "        print(\"Train Result:\\n================================================\")\n",
        "        print(f\"Accuracy Score: {accuracy_score(y_train, pred) * 100:.2f}%\")\n",
        "        print(\"_______________________________________________\")\n",
        "        print(f\"CLASSIFICATION REPORT:\\n{clf_report}\")\n",
        "        print(\"_______________________________________________\")\n",
        "        print(f\"Confusion Matrix: \\n {confusion_matrix(y_train, pred)}\\n\")\n",
        "        \n",
        "    elif train==False:\n",
        "        pred = clf.predict(X_test)\n",
        "        clf_report = pd.DataFrame(classification_report(y_test, pred, output_dict=True))\n",
        "        print(\"Test Result:\\n================================================\")        \n",
        "        print(f\"Accuracy Score: {accuracy_score(y_test, pred) * 100:.2f}%\")\n",
        "        print(\"_______________________________________________\")\n",
        "        print(f\"CLASSIFICATION REPORT:\\n{clf_report}\")\n",
        "        print(\"_______________________________________________\")\n",
        "        print(f\"Confusion Matrix: \\n {confusion_matrix(y_test, pred)}\\n\")"
      ]
    },
    {
      "attachments": {},
      "cell_type": "markdown",
      "metadata": {
        "id": "uQkMlJSHjDHY"
      },
      "source": [
        "5. Clasification using Machine Learning Algorithm"
      ]
    },
    {
      "attachments": {},
      "cell_type": "markdown",
      "metadata": {
        "id": "3EdRFHsXjFc-"
      },
      "source": [
        "**A. SVM**"
      ]
    },
    {
      "cell_type": "code",
      "execution_count": 18,
      "metadata": {
        "colab": {
          "base_uri": "https://localhost:8080/"
        },
        "id": "wmJ5VCl2jD0E",
        "outputId": "256f07c5-2ff6-4549-952c-48c5dc6c02ce"
      },
      "outputs": [
        {
          "name": "stdout",
          "output_type": "stream",
          "text": [
            "Predictions: \n",
            " [1 0 1 1 1 0 1 1 1 1 1 1 1 1 1 1 0 1 1 1 1 1 1 1 1 0 1 1 1 1 1 0 1 1 1 1 0\n",
            " 1 0 1 1 1 0 1 0 1 1 1 1 1 1 0 0 1 0 0 1 1 1 1 0 0 1 1 1 1 1 1 1 1 1 1 1 1\n",
            " 1 1 0 1 0 1 1 0 1 1 1 0 1 0 1 1 1 1 1 0 1 1 1 1 1 0 1 1 1 1 1 1 1 1 1 1 1\n",
            " 1 1 1 1 1 0 1 1 1]\n",
            "\n",
            "Confusion matrix: \n",
            " [[22  5]\n",
            " [ 1 92]]\n",
            "\n",
            "Evaluation metrics: \n",
            "               precision    recall  f1-score   support\n",
            "\n",
            "           0       0.96      0.81      0.88        27\n",
            "           1       0.95      0.99      0.97        93\n",
            "\n",
            "    accuracy                           0.95       120\n",
            "   macro avg       0.95      0.90      0.92       120\n",
            "weighted avg       0.95      0.95      0.95       120\n",
            "\n",
            "Train Result:\n",
            "================================================\n",
            "Accuracy Score: 96.88%\n",
            "_______________________________________________\n",
            "CLASSIFICATION REPORT:\n",
            "                   0           1  accuracy   macro avg  weighted avg\n",
            "precision   0.886076    0.985037   0.96875    0.935557      0.969369\n",
            "recall      0.921053    0.977723   0.96875    0.949388      0.968750\n",
            "f1-score    0.903226    0.981366   0.96875    0.942296      0.968994\n",
            "support    76.000000  404.000000   0.96875  480.000000    480.000000\n",
            "_______________________________________________\n",
            "Confusion Matrix: \n",
            " [[ 70   6]\n",
            " [  9 395]]\n",
            "\n",
            "Test Result:\n",
            "================================================\n",
            "Accuracy Score: 95.00%\n",
            "_______________________________________________\n",
            "CLASSIFICATION REPORT:\n",
            "                   0          1  accuracy   macro avg  weighted avg\n",
            "precision   0.956522   0.948454      0.95    0.952488      0.950269\n",
            "recall      0.814815   0.989247      0.95    0.902031      0.950000\n",
            "f1-score    0.880000   0.968421      0.95    0.924211      0.948526\n",
            "support    27.000000  93.000000      0.95  120.000000    120.000000\n",
            "_______________________________________________\n",
            "Confusion Matrix: \n",
            " [[22  5]\n",
            " [ 1 92]]\n",
            "\n"
          ]
        },
        {
          "data": {
            "text/plain": [
              "['svm_clf.sav']"
            ]
          },
          "execution_count": 18,
          "metadata": {},
          "output_type": "execute_result"
        }
      ],
      "source": [
        "from sklearn.svm import SVC\n",
        "from sklearn.pipeline import make_pipeline\n",
        "from sklearn.preprocessing import StandardScaler\n",
        "\n",
        "\n",
        "svm_clf = make_pipeline(StandardScaler(), SVC())\n",
        "svm_clf.fit(Xtrain, Ytrain)\n",
        "predictions = svm_clf.predict(Xtest)\n",
        "\n",
        "print('Predictions: \\n', predictions)\n",
        "print('\\nConfusion matrix: \\n', confusion_matrix(Ytest, predictions))\n",
        "print('\\nEvaluation metrics: \\n',classification_report(Ytest, predictions))\n",
        "\n",
        "print_score(svm_clf, Xtrain, Ytrain, Xtest, Ytest, train=True)\n",
        "print_score(svm_clf, Xtrain, Ytrain, Xtest, Ytest, train=False)\n",
        "joblib.dump(svm_clf, 'svm_clf.sav') "
      ]
    },
    {
      "cell_type": "code",
      "execution_count": 42,
      "metadata": {},
      "outputs": [
        {
          "data": {
            "text/plain": [
              "#friends           1489.000000\n",
              "#following         1051.000000\n",
              "#community           31.000000\n",
              "age                1011.000000\n",
              "#postshared         756.000000\n",
              "#urlshared           58.000000\n",
              "#photos/videos      721.000000\n",
              "fpurls                0.076720\n",
              "fpphotos/videos       0.953704\n",
              "avgcomment/post       0.220000\n",
              "likes/post            0.780000\n",
              "tags/post            25.000000\n",
              "#tags/post            9.000000\n",
              "Name: 113, dtype: float64"
            ]
          },
          "execution_count": 42,
          "metadata": {},
          "output_type": "execute_result"
        }
      ],
      "source": [
        "Xtest.iloc[0]"
      ]
    },
    {
      "cell_type": "code",
      "execution_count": 46,
      "metadata": {},
      "outputs": [
        {
          "data": {
            "text/plain": [
              "builtin_function_or_method"
            ]
          },
          "execution_count": 46,
          "metadata": {},
          "output_type": "execute_result"
        }
      ],
      "source": [
        "type(predictions.tolist)"
      ]
    },
    {
      "attachments": {},
      "cell_type": "markdown",
      "metadata": {
        "id": "UaUOR8xYpK4L"
      },
      "source": [
        "**B. KNN**"
      ]
    },
    {
      "cell_type": "code",
      "execution_count": 19,
      "metadata": {
        "id": "p7z0Q-BtpMMB"
      },
      "outputs": [
        {
          "name": "stdout",
          "output_type": "stream",
          "text": [
            "Predictions: \n",
            " [1 0 1 1 1 0 1 1 1 1 1 1 1 1 1 1 0 1 1 1 1 1 1 1 1 0 1 1 1 1 1 0 1 1 1 1 0\n",
            " 1 0 1 1 1 0 1 0 1 1 1 0 1 1 0 0 1 0 0 1 1 1 1 0 0 1 1 1 1 1 1 1 1 1 1 1 1\n",
            " 1 1 0 1 0 0 1 0 1 1 1 0 1 0 1 1 1 1 1 0 0 1 1 1 1 0 1 1 1 1 1 1 1 1 1 1 1\n",
            " 1 1 1 1 1 0 1 1 1]\n",
            "\n",
            "Confusion matrix: \n",
            " [[24  3]\n",
            " [ 2 91]]\n",
            "\n",
            "Evaluation metrics: \n",
            "               precision    recall  f1-score   support\n",
            "\n",
            "           0       0.92      0.89      0.91        27\n",
            "           1       0.97      0.98      0.97        93\n",
            "\n",
            "    accuracy                           0.96       120\n",
            "   macro avg       0.95      0.93      0.94       120\n",
            "weighted avg       0.96      0.96      0.96       120\n",
            "\n",
            "Train Result:\n",
            "================================================\n",
            "Accuracy Score: 100.00%\n",
            "_______________________________________________\n",
            "CLASSIFICATION REPORT:\n",
            "              0      1  accuracy  macro avg  weighted avg\n",
            "precision   1.0    1.0       1.0        1.0           1.0\n",
            "recall      1.0    1.0       1.0        1.0           1.0\n",
            "f1-score    1.0    1.0       1.0        1.0           1.0\n",
            "support    76.0  404.0       1.0      480.0         480.0\n",
            "_______________________________________________\n",
            "Confusion Matrix: \n",
            " [[ 76   0]\n",
            " [  0 404]]\n",
            "\n",
            "Test Result:\n",
            "================================================\n",
            "Accuracy Score: 95.83%\n",
            "_______________________________________________\n",
            "CLASSIFICATION REPORT:\n",
            "                   0          1  accuracy   macro avg  weighted avg\n",
            "precision   0.923077   0.968085  0.958333    0.945581      0.957958\n",
            "recall      0.888889   0.978495  0.958333    0.933692      0.958333\n",
            "f1-score    0.905660   0.973262  0.958333    0.939461      0.958052\n",
            "support    27.000000  93.000000  0.958333  120.000000    120.000000\n",
            "_______________________________________________\n",
            "Confusion Matrix: \n",
            " [[24  3]\n",
            " [ 2 91]]\n",
            "\n"
          ]
        },
        {
          "data": {
            "text/plain": [
              "['clf_knn.sav']"
            ]
          },
          "execution_count": 19,
          "metadata": {},
          "output_type": "execute_result"
        }
      ],
      "source": [
        "from sklearn.neighbors import KNeighborsClassifier\n",
        "\n",
        "neigh = KNeighborsClassifier(n_neighbors=10, weights='distance', p=1)\n",
        "clf_knn = make_pipeline(StandardScaler(), neigh)\n",
        "clf_knn.fit(Xtrain, Ytrain)\n",
        "predictions = clf_knn.predict(Xtest)\n",
        "\n",
        "print('Predictions: \\n', predictions)\n",
        "print('\\nConfusion matrix: \\n', confusion_matrix(Ytest, predictions))\n",
        "print('\\nEvaluation metrics: \\n',classification_report(Ytest, predictions))\n",
        "\n",
        "print_score(clf_knn, Xtrain, Ytrain, Xtest, Ytest, train=True)\n",
        "print_score(clf_knn, Xtrain, Ytrain, Xtest, Ytest, train=False)\n",
        "\n",
        "joblib.dump(clf_knn, 'clf_knn.sav') "
      ]
    },
    {
      "attachments": {},
      "cell_type": "markdown",
      "metadata": {
        "id": "XTWa2J1mpX1c"
      },
      "source": [
        "**C. DT**"
      ]
    },
    {
      "cell_type": "code",
      "execution_count": 20,
      "metadata": {
        "colab": {
          "base_uri": "https://localhost:8080/"
        },
        "id": "kHo3L3CApZsH",
        "outputId": "9d18d65a-eb73-4bde-fdca-a1adf3b82f24"
      },
      "outputs": [
        {
          "name": "stdout",
          "output_type": "stream",
          "text": [
            "Predictions: \n",
            " [1 0 1 1 1 0 1 1 1 1 1 1 1 1 1 1 0 1 1 1 1 1 1 1 1 0 1 1 1 1 1 0 1 1 1 1 0\n",
            " 1 0 1 1 1 0 1 0 1 1 1 0 1 1 0 0 1 0 0 1 1 1 1 0 0 1 1 1 1 1 1 1 1 1 1 1 1\n",
            " 1 1 0 1 0 0 1 0 1 1 1 0 1 0 1 1 1 1 1 0 0 1 1 1 1 0 1 1 1 1 1 1 1 1 1 1 1\n",
            " 1 1 1 1 1 0 1 1 1]\n",
            "\n",
            "Confusion matrix: \n",
            " [[24  3]\n",
            " [ 2 91]]\n",
            "\n",
            "Evaluation metrics: \n",
            "               precision    recall  f1-score   support\n",
            "\n",
            "           0       0.92      0.89      0.91        27\n",
            "           1       0.97      0.98      0.97        93\n",
            "\n",
            "    accuracy                           0.96       120\n",
            "   macro avg       0.95      0.93      0.94       120\n",
            "weighted avg       0.96      0.96      0.96       120\n",
            "\n",
            "Train Result:\n",
            "================================================\n",
            "Accuracy Score: 100.00%\n",
            "_______________________________________________\n",
            "CLASSIFICATION REPORT:\n",
            "              0      1  accuracy  macro avg  weighted avg\n",
            "precision   1.0    1.0       1.0        1.0           1.0\n",
            "recall      1.0    1.0       1.0        1.0           1.0\n",
            "f1-score    1.0    1.0       1.0        1.0           1.0\n",
            "support    76.0  404.0       1.0      480.0         480.0\n",
            "_______________________________________________\n",
            "Confusion Matrix: \n",
            " [[ 76   0]\n",
            " [  0 404]]\n",
            "\n",
            "Test Result:\n",
            "================================================\n",
            "Accuracy Score: 91.67%\n",
            "_______________________________________________\n",
            "CLASSIFICATION REPORT:\n",
            "                   0          1  accuracy   macro avg  weighted avg\n",
            "precision   0.869565   0.927835  0.916667    0.898700      0.914724\n",
            "recall      0.740741   0.967742  0.916667    0.854241      0.916667\n",
            "f1-score    0.800000   0.947368  0.916667    0.873684      0.914211\n",
            "support    27.000000  93.000000  0.916667  120.000000    120.000000\n",
            "_______________________________________________\n",
            "Confusion Matrix: \n",
            " [[20  7]\n",
            " [ 3 90]]\n",
            "\n"
          ]
        },
        {
          "data": {
            "text/plain": [
              "['clf_dt.sav']"
            ]
          },
          "execution_count": 20,
          "metadata": {},
          "output_type": "execute_result"
        }
      ],
      "source": [
        "from sklearn.tree import DecisionTreeClassifier\n",
        "\n",
        "tree_clf = DecisionTreeClassifier(random_state=42)\n",
        "tree_clf.fit(Xtrain, Ytrain)\n",
        "\n",
        "print('Predictions: \\n', predictions)\n",
        "print('\\nConfusion matrix: \\n', confusion_matrix(Ytest, predictions))\n",
        "print('\\nEvaluation metrics: \\n',classification_report(Ytest, predictions))\n",
        "\n",
        "print_score(tree_clf, Xtrain, Ytrain, Xtest, Ytest, train=True)\n",
        "print_score(tree_clf, Xtrain, Ytrain, Xtest, Ytest, train=False)\n",
        "\n",
        "joblib.dump(tree_clf, 'clf_dt.sav') "
      ]
    },
    {
      "attachments": {},
      "cell_type": "markdown",
      "metadata": {
        "id": "DEvL76vFphhI"
      },
      "source": [
        "**D. Random FOrest**"
      ]
    },
    {
      "cell_type": "code",
      "execution_count": 21,
      "metadata": {
        "colab": {
          "base_uri": "https://localhost:8080/"
        },
        "id": "0jDKhDZapkxK",
        "outputId": "13b16cca-ba67-4b17-8e59-aa71582d12bc"
      },
      "outputs": [
        {
          "name": "stdout",
          "output_type": "stream",
          "text": [
            "Predictions: \n",
            " [1 0 1 1 1 0 1 1 1 1 1 1 1 1 1 1 0 1 1 1 1 1 1 1 1 0 1 1 1 1 1 0 1 1 1 1 0\n",
            " 1 0 1 1 1 0 1 0 1 1 1 0 1 1 0 0 1 0 0 1 1 1 1 0 0 1 1 1 1 1 1 1 1 1 1 1 1\n",
            " 1 1 0 1 0 0 1 0 1 1 1 0 1 0 1 1 1 1 1 0 0 1 1 1 1 0 1 1 1 1 1 1 1 1 1 1 1\n",
            " 1 1 1 1 1 0 1 1 1]\n",
            "\n",
            "Confusion matrix: \n",
            " [[24  3]\n",
            " [ 2 91]]\n",
            "\n",
            "Evaluation metrics: \n",
            "               precision    recall  f1-score   support\n",
            "\n",
            "           0       0.92      0.89      0.91        27\n",
            "           1       0.97      0.98      0.97        93\n",
            "\n",
            "    accuracy                           0.96       120\n",
            "   macro avg       0.95      0.93      0.94       120\n",
            "weighted avg       0.96      0.96      0.96       120\n",
            "\n",
            "Train Result:\n",
            "================================================\n",
            "Accuracy Score: 100.00%\n",
            "_______________________________________________\n",
            "CLASSIFICATION REPORT:\n",
            "              0      1  accuracy  macro avg  weighted avg\n",
            "precision   1.0    1.0       1.0        1.0           1.0\n",
            "recall      1.0    1.0       1.0        1.0           1.0\n",
            "f1-score    1.0    1.0       1.0        1.0           1.0\n",
            "support    76.0  404.0       1.0      480.0         480.0\n",
            "_______________________________________________\n",
            "Confusion Matrix: \n",
            " [[ 76   0]\n",
            " [  0 404]]\n",
            "\n",
            "Test Result:\n",
            "================================================\n",
            "Accuracy Score: 95.83%\n",
            "_______________________________________________\n",
            "CLASSIFICATION REPORT:\n",
            "                   0          1  accuracy   macro avg  weighted avg\n",
            "precision   0.923077   0.968085  0.958333    0.945581      0.957958\n",
            "recall      0.888889   0.978495  0.958333    0.933692      0.958333\n",
            "f1-score    0.905660   0.973262  0.958333    0.939461      0.958052\n",
            "support    27.000000  93.000000  0.958333  120.000000    120.000000\n",
            "_______________________________________________\n",
            "Confusion Matrix: \n",
            " [[24  3]\n",
            " [ 2 91]]\n",
            "\n"
          ]
        }
      ],
      "source": [
        "from sklearn.ensemble import RandomForestClassifier\n",
        "rand_for = RandomForestClassifier(criterion='entropy', n_estimators=100)\n",
        "clf_rf = make_pipeline(StandardScaler(), rand_for)\n",
        "clf_rf.fit(Xtrain, Ytrain)\n",
        "predictions = clf_rf.predict(Xtest)\n",
        "\n",
        "print('Predictions: \\n', predictions)\n",
        "print('\\nConfusion matrix: \\n', confusion_matrix(Ytest, predictions))\n",
        "print('\\nEvaluation metrics: \\n',classification_report(Ytest, predictions))\n",
        "\n",
        "print_score(clf_rf, Xtrain, Ytrain, Xtest, Ytest, train=True)\n",
        "print_score(clf_rf, Xtrain, Ytrain, Xtest, Ytest, train=False)\n"
      ]
    }
  ],
  "metadata": {
    "colab": {
      "provenance": []
    },
    "kernelspec": {
      "display_name": "Python 3",
      "name": "python3"
    },
    "language_info": {
      "codemirror_mode": {
        "name": "ipython",
        "version": 3
      },
      "file_extension": ".py",
      "mimetype": "text/x-python",
      "name": "python",
      "nbconvert_exporter": "python",
      "pygments_lexer": "ipython3",
      "version": "3.11.3"
    }
  },
  "nbformat": 4,
  "nbformat_minor": 0
}
